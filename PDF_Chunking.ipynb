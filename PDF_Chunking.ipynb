{
 "cells": [
  {
   "cell_type": "markdown",
   "metadata": {},
   "source": [
    "### Installing and importing dependencies"
   ]
  },
  {
   "cell_type": "code",
   "execution_count": 1,
   "metadata": {
    "colab": {
     "base_uri": "https://localhost:8080/"
    },
    "id": "jJLJ-mXhRNzH",
    "outputId": "22c983db-4498-4efb-9023-f439e916c414"
   },
   "outputs": [
    {
     "name": "stdout",
     "output_type": "stream",
     "text": [
      "Requirement already satisfied: PyPDF2 in /home/dgxuser/anaconda3/envs/pdf_chunk/lib/python3.11/site-packages (2.10.5)\n",
      "Requirement already satisfied: pytesseract in /home/dgxuser/anaconda3/envs/pdf_chunk/lib/python3.11/site-packages (0.3.10)\n",
      "Requirement already satisfied: packaging>=21.3 in /home/dgxuser/anaconda3/envs/pdf_chunk/lib/python3.11/site-packages (from pytesseract) (23.0)\n",
      "Requirement already satisfied: Pillow>=8.0.0 in /home/dgxuser/anaconda3/envs/pdf_chunk/lib/python3.11/site-packages (from pytesseract) (9.4.0)\n",
      "Requirement already satisfied: pymupdf in /home/dgxuser/anaconda3/envs/pdf_chunk/lib/python3.11/site-packages (1.22.5)\n",
      "Requirement already satisfied: langchain in /home/dgxuser/anaconda3/envs/pdf_chunk/lib/python3.11/site-packages (0.0.270)\n",
      "Requirement already satisfied: PyYAML>=5.3 in /home/dgxuser/anaconda3/envs/pdf_chunk/lib/python3.11/site-packages (from langchain) (6.0)\n",
      "Requirement already satisfied: SQLAlchemy<3,>=1.4 in /home/dgxuser/anaconda3/envs/pdf_chunk/lib/python3.11/site-packages (from langchain) (1.4.39)\n",
      "Requirement already satisfied: aiohttp<4.0.0,>=3.8.3 in /home/dgxuser/anaconda3/envs/pdf_chunk/lib/python3.11/site-packages (from langchain) (3.8.3)\n",
      "Requirement already satisfied: dataclasses-json<0.6.0,>=0.5.7 in /home/dgxuser/anaconda3/envs/pdf_chunk/lib/python3.11/site-packages (from langchain) (0.5.7)\n",
      "Requirement already satisfied: langsmith<0.1.0,>=0.0.21 in /home/dgxuser/anaconda3/envs/pdf_chunk/lib/python3.11/site-packages (from langchain) (0.0.25)\n",
      "Requirement already satisfied: numexpr<3.0.0,>=2.8.4 in /home/dgxuser/anaconda3/envs/pdf_chunk/lib/python3.11/site-packages (from langchain) (2.8.4)\n",
      "Requirement already satisfied: numpy<2,>=1 in /home/dgxuser/anaconda3/envs/pdf_chunk/lib/python3.11/site-packages (from langchain) (1.25.2)\n",
      "Requirement already satisfied: pydantic<3,>=1 in /home/dgxuser/anaconda3/envs/pdf_chunk/lib/python3.11/site-packages (from langchain) (1.10.8)\n",
      "Requirement already satisfied: requests<3,>=2 in /home/dgxuser/anaconda3/envs/pdf_chunk/lib/python3.11/site-packages (from langchain) (2.31.0)\n",
      "Requirement already satisfied: tenacity<9.0.0,>=8.1.0 in /home/dgxuser/anaconda3/envs/pdf_chunk/lib/python3.11/site-packages (from langchain) (8.2.3)\n",
      "Requirement already satisfied: attrs>=17.3.0 in /home/dgxuser/anaconda3/envs/pdf_chunk/lib/python3.11/site-packages (from aiohttp<4.0.0,>=3.8.3->langchain) (23.1.0)\n",
      "Requirement already satisfied: charset-normalizer<3.0,>=2.0 in /home/dgxuser/anaconda3/envs/pdf_chunk/lib/python3.11/site-packages (from aiohttp<4.0.0,>=3.8.3->langchain) (2.0.4)\n",
      "Requirement already satisfied: multidict<7.0,>=4.5 in /home/dgxuser/anaconda3/envs/pdf_chunk/lib/python3.11/site-packages (from aiohttp<4.0.0,>=3.8.3->langchain) (6.0.2)\n",
      "Requirement already satisfied: async-timeout<5.0,>=4.0.0a3 in /home/dgxuser/anaconda3/envs/pdf_chunk/lib/python3.11/site-packages (from aiohttp<4.0.0,>=3.8.3->langchain) (4.0.3)\n",
      "Requirement already satisfied: yarl<2.0,>=1.0 in /home/dgxuser/anaconda3/envs/pdf_chunk/lib/python3.11/site-packages (from aiohttp<4.0.0,>=3.8.3->langchain) (1.8.1)\n",
      "Requirement already satisfied: frozenlist>=1.1.1 in /home/dgxuser/anaconda3/envs/pdf_chunk/lib/python3.11/site-packages (from aiohttp<4.0.0,>=3.8.3->langchain) (1.3.3)\n",
      "Requirement already satisfied: aiosignal>=1.1.2 in /home/dgxuser/anaconda3/envs/pdf_chunk/lib/python3.11/site-packages (from aiohttp<4.0.0,>=3.8.3->langchain) (1.3.1)\n",
      "Requirement already satisfied: marshmallow<4.0.0,>=3.3.0 in /home/dgxuser/anaconda3/envs/pdf_chunk/lib/python3.11/site-packages (from dataclasses-json<0.6.0,>=0.5.7->langchain) (3.20.1)\n",
      "Requirement already satisfied: marshmallow-enum<2.0.0,>=1.5.1 in /home/dgxuser/anaconda3/envs/pdf_chunk/lib/python3.11/site-packages (from dataclasses-json<0.6.0,>=0.5.7->langchain) (1.5.1)\n",
      "Requirement already satisfied: typing-inspect>=0.4.0 in /home/dgxuser/anaconda3/envs/pdf_chunk/lib/python3.11/site-packages (from dataclasses-json<0.6.0,>=0.5.7->langchain) (0.9.0)\n",
      "Requirement already satisfied: typing-extensions>=4.2.0 in /home/dgxuser/anaconda3/envs/pdf_chunk/lib/python3.11/site-packages (from pydantic<3,>=1->langchain) (4.7.1)\n",
      "Requirement already satisfied: idna<4,>=2.5 in /home/dgxuser/anaconda3/envs/pdf_chunk/lib/python3.11/site-packages (from requests<3,>=2->langchain) (3.4)\n",
      "Requirement already satisfied: urllib3<3,>=1.21.1 in /home/dgxuser/anaconda3/envs/pdf_chunk/lib/python3.11/site-packages (from requests<3,>=2->langchain) (2.0.4)\n",
      "Requirement already satisfied: certifi>=2017.4.17 in /home/dgxuser/anaconda3/envs/pdf_chunk/lib/python3.11/site-packages (from requests<3,>=2->langchain) (2023.7.22)\n",
      "Requirement already satisfied: greenlet!=0.4.17 in /home/dgxuser/anaconda3/envs/pdf_chunk/lib/python3.11/site-packages (from SQLAlchemy<3,>=1.4->langchain) (2.0.1)\n",
      "Requirement already satisfied: packaging>=17.0 in /home/dgxuser/anaconda3/envs/pdf_chunk/lib/python3.11/site-packages (from marshmallow<4.0.0,>=3.3.0->dataclasses-json<0.6.0,>=0.5.7->langchain) (23.0)\n",
      "Requirement already satisfied: mypy-extensions>=0.3.0 in /home/dgxuser/anaconda3/envs/pdf_chunk/lib/python3.11/site-packages (from typing-inspect>=0.4.0->dataclasses-json<0.6.0,>=0.5.7->langchain) (1.0.0)\n",
      "Requirement already satisfied: pathlib in /home/dgxuser/anaconda3/envs/pdf_chunk/lib/python3.11/site-packages (1.0.1)\n",
      "Requirement already satisfied: sentence-transformers in /home/dgxuser/anaconda3/envs/pdf_chunk/lib/python3.11/site-packages (2.2.2)\n",
      "Requirement already satisfied: transformers<5.0.0,>=4.6.0 in /home/dgxuser/anaconda3/envs/pdf_chunk/lib/python3.11/site-packages (from sentence-transformers) (4.28.1)\n",
      "Requirement already satisfied: tqdm in /home/dgxuser/anaconda3/envs/pdf_chunk/lib/python3.11/site-packages (from sentence-transformers) (4.66.1)\n",
      "Requirement already satisfied: torch>=1.6.0 in /home/dgxuser/anaconda3/envs/pdf_chunk/lib/python3.11/site-packages (from sentence-transformers) (2.0.1)\n",
      "Requirement already satisfied: torchvision in /home/dgxuser/anaconda3/envs/pdf_chunk/lib/python3.11/site-packages (from sentence-transformers) (0.15.2)\n",
      "Requirement already satisfied: numpy in /home/dgxuser/anaconda3/envs/pdf_chunk/lib/python3.11/site-packages (from sentence-transformers) (1.25.2)\n",
      "Requirement already satisfied: scikit-learn in /home/dgxuser/anaconda3/envs/pdf_chunk/lib/python3.11/site-packages (from sentence-transformers) (1.2.2)\n",
      "Requirement already satisfied: scipy in /home/dgxuser/anaconda3/envs/pdf_chunk/lib/python3.11/site-packages (from sentence-transformers) (1.11.1)\n",
      "Requirement already satisfied: nltk in /home/dgxuser/anaconda3/envs/pdf_chunk/lib/python3.11/site-packages (from sentence-transformers) (3.8.1)\n",
      "Requirement already satisfied: sentencepiece in /home/dgxuser/anaconda3/envs/pdf_chunk/lib/python3.11/site-packages (from sentence-transformers) (0.1.99)\n",
      "Requirement already satisfied: huggingface-hub>=0.4.0 in /home/dgxuser/anaconda3/envs/pdf_chunk/lib/python3.11/site-packages (from sentence-transformers) (0.16.4)\n",
      "Requirement already satisfied: filelock in /home/dgxuser/anaconda3/envs/pdf_chunk/lib/python3.11/site-packages (from huggingface-hub>=0.4.0->sentence-transformers) (3.12.2)\n",
      "Requirement already satisfied: fsspec in /home/dgxuser/anaconda3/envs/pdf_chunk/lib/python3.11/site-packages (from huggingface-hub>=0.4.0->sentence-transformers) (2023.6.0)\n",
      "Requirement already satisfied: requests in /home/dgxuser/anaconda3/envs/pdf_chunk/lib/python3.11/site-packages (from huggingface-hub>=0.4.0->sentence-transformers) (2.31.0)\n",
      "Requirement already satisfied: pyyaml>=5.1 in /home/dgxuser/anaconda3/envs/pdf_chunk/lib/python3.11/site-packages (from huggingface-hub>=0.4.0->sentence-transformers) (6.0)\n",
      "Requirement already satisfied: typing-extensions>=3.7.4.3 in /home/dgxuser/anaconda3/envs/pdf_chunk/lib/python3.11/site-packages (from huggingface-hub>=0.4.0->sentence-transformers) (4.7.1)\n",
      "Requirement already satisfied: packaging>=20.9 in /home/dgxuser/anaconda3/envs/pdf_chunk/lib/python3.11/site-packages (from huggingface-hub>=0.4.0->sentence-transformers) (23.0)\n",
      "Requirement already satisfied: sympy in /home/dgxuser/anaconda3/envs/pdf_chunk/lib/python3.11/site-packages (from torch>=1.6.0->sentence-transformers) (1.12)\n",
      "Requirement already satisfied: networkx in /home/dgxuser/anaconda3/envs/pdf_chunk/lib/python3.11/site-packages (from torch>=1.6.0->sentence-transformers) (2.8.8)\n",
      "Requirement already satisfied: jinja2 in /home/dgxuser/anaconda3/envs/pdf_chunk/lib/python3.11/site-packages (from torch>=1.6.0->sentence-transformers) (3.1.2)\n"
     ]
    },
    {
     "name": "stdout",
     "output_type": "stream",
     "text": [
      "Requirement already satisfied: regex!=2019.12.17 in /home/dgxuser/anaconda3/envs/pdf_chunk/lib/python3.11/site-packages (from transformers<5.0.0,>=4.6.0->sentence-transformers) (2022.7.9)\n",
      "Requirement already satisfied: tokenizers!=0.11.3,<0.14,>=0.11.1 in /home/dgxuser/anaconda3/envs/pdf_chunk/lib/python3.11/site-packages (from transformers<5.0.0,>=4.6.0->sentence-transformers) (0.13.2)\n",
      "Requirement already satisfied: click in /home/dgxuser/anaconda3/envs/pdf_chunk/lib/python3.11/site-packages (from nltk->sentence-transformers) (8.1.7)\n",
      "Requirement already satisfied: joblib in /home/dgxuser/anaconda3/envs/pdf_chunk/lib/python3.11/site-packages (from nltk->sentence-transformers) (1.3.2)\n",
      "Requirement already satisfied: threadpoolctl>=2.0.0 in /home/dgxuser/anaconda3/envs/pdf_chunk/lib/python3.11/site-packages (from scikit-learn->sentence-transformers) (3.2.0)\n",
      "Requirement already satisfied: pillow!=8.3.*,>=5.3.0 in /home/dgxuser/anaconda3/envs/pdf_chunk/lib/python3.11/site-packages (from torchvision->sentence-transformers) (9.4.0)\n",
      "Requirement already satisfied: MarkupSafe>=2.0 in /home/dgxuser/anaconda3/envs/pdf_chunk/lib/python3.11/site-packages (from jinja2->torch>=1.6.0->sentence-transformers) (2.1.1)\n",
      "Requirement already satisfied: charset-normalizer<4,>=2 in /home/dgxuser/anaconda3/envs/pdf_chunk/lib/python3.11/site-packages (from requests->huggingface-hub>=0.4.0->sentence-transformers) (2.0.4)\n",
      "Requirement already satisfied: idna<4,>=2.5 in /home/dgxuser/anaconda3/envs/pdf_chunk/lib/python3.11/site-packages (from requests->huggingface-hub>=0.4.0->sentence-transformers) (3.4)\n",
      "Requirement already satisfied: urllib3<3,>=1.21.1 in /home/dgxuser/anaconda3/envs/pdf_chunk/lib/python3.11/site-packages (from requests->huggingface-hub>=0.4.0->sentence-transformers) (2.0.4)\n",
      "Requirement already satisfied: certifi>=2017.4.17 in /home/dgxuser/anaconda3/envs/pdf_chunk/lib/python3.11/site-packages (from requests->huggingface-hub>=0.4.0->sentence-transformers) (2023.7.22)\n",
      "Requirement already satisfied: mpmath>=0.19 in /home/dgxuser/anaconda3/envs/pdf_chunk/lib/python3.11/site-packages (from sympy->torch>=1.6.0->sentence-transformers) (1.3.0)\n",
      "Requirement already satisfied: glob2 in /home/dgxuser/anaconda3/envs/pdf_chunk/lib/python3.11/site-packages (0.7)\n",
      "Requirement already satisfied: pdf2image in /home/dgxuser/anaconda3/envs/pdf_chunk/lib/python3.11/site-packages (1.16.3)\n",
      "Requirement already satisfied: pillow in /home/dgxuser/anaconda3/envs/pdf_chunk/lib/python3.11/site-packages (from pdf2image) (9.4.0)\n",
      "E: Could not open lock file /var/lib/dpkg/lock-frontend - open (13: Permission denied)\n",
      "E: Unable to acquire the dpkg frontend lock (/var/lib/dpkg/lock-frontend), are you root?\n"
     ]
    }
   ],
   "source": [
    "!pip install PyPDF2 pytesseract\n",
    "!pip install pymupdf\n",
    "!pip install langchain\n",
    "!pip install pathlib\n",
    "!pip install sentence-transformers\n",
    "!pip install glob2\n",
    "!pip install pdf2image\n",
    "!apt-get install -y poppler-utils"
   ]
  },
  {
   "cell_type": "markdown",
   "metadata": {},
   "source": [
    "#### Note: Google Colab was used for this notebook due to issues with installing tesseract-ocr locally."
   ]
  },
  {
   "cell_type": "code",
   "execution_count": 2,
   "metadata": {
    "colab": {
     "base_uri": "https://localhost:8080/"
    },
    "id": "bca2ZjoX_H6h",
    "outputId": "cf46e954-6930-4f44-fdac-90e8e322e0ec"
   },
   "outputs": [
    {
     "name": "stdout",
     "output_type": "stream",
     "text": [
      "Reading package lists... Done\n",
      "Building dependency tree       \n",
      "Reading state information... Done\n",
      "The following additional packages will be installed:\n",
      "  libtesseract5\n",
      "The following NEW packages will be installed:\n",
      "  libtesseract5\n",
      "The following packages will be upgraded:\n",
      "  tesseract-ocr\n",
      "1 upgraded, 1 newly installed, 0 to remove and 568 not upgraded.\n",
      "Need to get 1,648 kB of archives.\n",
      "After this operation, 4,056 kB of additional disk space will be used.\n",
      "Err:1 http://ppa.launchpad.net/alex-p/tesseract-ocr5/ubuntu focal/main amd64 libtesseract5 amd64 5.3.1-1ppa1~focal1\n",
      "  Connection failed [IP: 185.125.190.52 80]\n",
      "Err:2 http://ppa.launchpad.net/alex-p/tesseract-ocr5/ubuntu focal/main amd64 tesseract-ocr amd64 5.3.1-1ppa1~focal1\n",
      "  Connection failed [IP: 185.125.190.52 80]\n",
      "E: Failed to fetch http://ppa.launchpad.net/alex-p/tesseract-ocr5/ubuntu/pool/main/t/tesseract/libtesseract5_5.3.1-1ppa1~focal1_amd64.deb  Connection failed [IP: 185.125.190.52 80]\n",
      "E: Failed to fetch http://ppa.launchpad.net/alex-p/tesseract-ocr5/ubuntu/pool/main/t/tesseract/tesseract-ocr_5.3.1-1ppa1~focal1_amd64.deb  Connection failed [IP: 185.125.190.52 80]\n",
      "E: Unable to fetch some archives, maybe run apt-get update or try with --fix-missing?\n"
     ]
    }
   ],
   "source": [
    "!sudo apt-get install -y tesseract-ocr"
   ]
  },
  {
   "cell_type": "code",
   "execution_count": null,
   "metadata": {
    "id": "E_fnUMbOSMfm"
   },
   "outputs": [],
   "source": [
    "import PyPDF2\n",
    "from pdf2image import convert_from_path\n",
    "import pytesseract\n",
    "import os\n",
    "import re\n",
    "import glob\n",
    "import fitz\n",
    "from PIL import Image\n",
    "from PyPDF2 import PdfReader\n",
    "from transformers import LlamaTokenizerFast\n",
    "from langchain.text_splitter import TextSplitter, CharacterTextSplitter"
   ]
  },
  {
   "cell_type": "markdown",
   "metadata": {},
   "source": [
    "### Purpose of this notebook:\n",
    "1. Extracts text from a PDF file (and saves it into a .txt file)\n",
    "2. Chunks extracted text into questions to be fed into an LLM to generate Q&A pairs"
   ]
  },
  {
   "cell_type": "markdown",
   "metadata": {},
   "source": [
    "### Defining functions used for extracting text from the PDF file\n",
    "Note: CHUNK_SIZE is set to be 1000 with a chunk overlap of 10% across chunks; feel free to experiment with this value."
   ]
  },
  {
   "cell_type": "code",
   "execution_count": null,
   "metadata": {
    "id": "va24S53FSP8v"
   },
   "outputs": [],
   "source": [
    "def extract_text_with_ocr(pdf_path):\n",
    "    text = \"\"\n",
    "\n",
    "    # Convert PDF pages to images using pdf2image\n",
    "    images = convert_from_path(pdf_path)\n",
    "\n",
    "    pytesseract.pytesseract.tesseract_cmd = '/usr/bin/tesseract'\n",
    "    # Iterate over each page\n",
    "    for page_num, image in enumerate(images):\n",
    "        # Perform OCR on the image using pytesseract\n",
    "        page_text = pytesseract.image_to_string(image, lang='eng')\n",
    "\n",
    "        # Identify and exclude text from diagrams\n",
    "        page_text = remove_diagram_text(page_text)\n",
    "\n",
    "        # Append the extracted text to the overall text\n",
    "        text += page_text\n",
    "\n",
    "    return text\n",
    "\n",
    "def remove_diagram_text(page_text):\n",
    "    # Add your custom logic to identify and remove text from diagrams\n",
    "    # You can use regex, string operations, or other techniques to identify and exclude text from diagrams\n",
    "\n",
    "    # For example, you can define a list of keywords or patterns commonly found in diagram text\n",
    "    diagram_keywords = ['diagram', 'chart', 'figure', 'graph']\n",
    "\n",
    "    # Split the page text into lines\n",
    "    lines = page_text.split('\\n')\n",
    "\n",
    "    # Iterate over each line and exclude lines containing diagram keywords\n",
    "    filtered_lines = [line for line in lines if not any(keyword in line.lower() for keyword in diagram_keywords)]\n",
    "\n",
    "    # Join the filtered lines back into a single string\n",
    "    filtered_text = '\\n'.join(filtered_lines)\n",
    "\n",
    "    return filtered_text\n",
    "\n",
    "\n",
    "CHUNK_SIZE = 1000\n",
    "\n",
    "def text_chunker(file) :\n",
    "  # initiate TextSplitter class and input chunk size and overlap\n",
    "  # text_splitter = SentenceTransformersTokenTextSplitter(\n",
    "  #     model_name = \"sentence-transformers/multi-qa-mpnet-base-dot-v1\",\n",
    "  #     tokens_per_chunk = CHUNK_SIZE,\n",
    "  #     chunk_overlap = CHUNK_SIZE // 10 # https://learn.microsoft.com/en-us/azure/search/vector-search-how-to-chunk-documents recommends 10% as a start\n",
    "  # )\n",
    "  tokenizer = LlamaTokenizerFast.from_pretrained(\"hf-internal-testing/llama-tokenizer\")\n",
    "  text_splitter = CharacterTextSplitter.from_huggingface_tokenizer(\n",
    "    tokenizer, chunk_size = CHUNK_SIZE, chunk_overlap = CHUNK_SIZE // 10)\n",
    "\n",
    "  # pass in the file to be split\n",
    "  # output is iterable\n",
    "  texts = text_splitter.split_text(file)\n",
    "  return texts\n",
    "\n",
    "def clean_text(text) :\n",
    "    # replace double whitespace with single whitespace\n",
    "    text = text.replace(\"  \", \" \")\n",
    "\n",
    "    # remove [i], where i is the number inside of a reference point throughout the research paper\n",
    "    text = re.sub(\"\\[.*?\\]\", '', text)\n",
    "\n",
    "    return text\n",
    "\n",
    "def remove_images(input_pdf, output_pdf):\n",
    "    doc = fitz.open(input_pdf)\n",
    "    for page in doc:\n",
    "        img_list = page.get_images()\n",
    "        for img in img_list:\n",
    "            page.delete_image(img[0])\n",
    "\n",
    "    doc.save(output_pdf)"
   ]
  },
  {
   "cell_type": "markdown",
   "metadata": {},
   "source": [
    "### Defining PDF name"
   ]
  },
  {
   "cell_type": "code",
   "execution_count": null,
   "metadata": {
    "id": "5XuCt94UGC0g"
   },
   "outputs": [],
   "source": [
    "PDF_NAME = 'dh162021-22_full issue'"
   ]
  },
  {
   "cell_type": "markdown",
   "metadata": {},
   "source": [
    "### Remove PDF images and extract text from PDF using OCR\n",
    "Note: if you already have the extracted PDF text in a .txt file, skip ahead to <b>Import extracted PDF text from a .txt file</b> as the text extraction step is expensive."
   ]
  },
  {
   "cell_type": "code",
   "execution_count": null,
   "metadata": {
    "id": "u1lNw35CtGNt"
   },
   "outputs": [],
   "source": [
    "# if you have many PDFs, wrap the below code cells in a for loop\n",
    "\n",
    "pdf = f\"{PDF_NAME}.pdf\"\n",
    "pdf_no_images = f\"{PDF_NAME}_no_images.pdf\"\n",
    "remove_images(pdf, pdf_no_images)"
   ]
  },
  {
   "cell_type": "code",
   "execution_count": null,
   "metadata": {
    "id": "ZQpVaiUEuLAK"
   },
   "outputs": [],
   "source": [
    "# Expensive, import from {PDF_NAME}_raw.txt file (below) if possible\n",
    "document = extract_text_with_ocr(pdf_no_images)"
   ]
  },
  {
   "cell_type": "markdown",
   "metadata": {},
   "source": [
    "### Write extracted PDF text into a .txt file"
   ]
  },
  {
   "cell_type": "code",
   "execution_count": null,
   "metadata": {
    "id": "Zu2RwupIGMmC"
   },
   "outputs": [],
   "source": [
    "with open(f'{PDF_NAME}_raw.txt', 'w') as f:\n",
    "    f.write(document)"
   ]
  },
  {
   "cell_type": "markdown",
   "metadata": {},
   "source": [
    "### Import extracted PDF text from a .txt file"
   ]
  },
  {
   "cell_type": "code",
   "execution_count": null,
   "metadata": {
    "colab": {
     "base_uri": "https://localhost:8080/"
    },
    "id": "ZVo9N7UZFpvv",
    "outputId": "d8189d0c-e9e8-4e17-9b9e-3a6c209a0dea"
   },
   "outputs": [
    {
     "data": {
      "text/plain": [
       "175085"
      ]
     },
     "execution_count": 13,
     "metadata": {},
     "output_type": "execute_result"
    }
   ],
   "source": [
    "# If importing from {PDF_NAME}_raw.txt file:\n",
    "with open(f'{PDF_NAME}_raw.txt', 'r') as f:\n",
    "  document = f.read().strip()"
   ]
  },
  {
   "cell_type": "markdown",
   "metadata": {},
   "source": [
    "### Cleaning and chunking text"
   ]
  },
  {
   "cell_type": "code",
   "execution_count": null,
   "metadata": {
    "colab": {
     "base_uri": "https://localhost:8080/",
     "height": 145,
     "referenced_widgets": [
      "05dca552d837454aa73ff8363f2bdb22",
      "0842879fa692470eb303994675494c64",
      "d5adc43186844049b8959255c358e9d8",
      "8e6afc99a63746969fac7824aec70999",
      "552e797a59ed4ce6a49c53e87c64c350",
      "3c45fd4dec3f4e70b130c3cca48e94a9",
      "04520ed4f5c54fc995eb5714f0c79fa2",
      "70e68a6de0034b58b44cc05b3e3df2a7",
      "34eb80b24eae48e8ace4c35ed69017d1",
      "c8fae0bc06ca4354b49d3f6c14ea12e6",
      "f1dfcbf05a3e41adb1b14bc3e37ea2eb",
      "4cc83630353e4e81898c9aba5aef67a2",
      "beb2dc6afa7e407db748c6db6a730c0b",
      "b305c2d42076478d8e8b73b31dbbc4ad",
      "19b113f7e7944960bc63e5e63a965223",
      "dd72594dc97e471dace5516fd211f9de",
      "a36109c8aded4ae2a6521cfa4e0ada82",
      "19a81b968e7e49678fe07933f606b635",
      "79ce4a03353545e195a70ff8edc9e1f5",
      "946b58a8de174b4c86a940bdf3cb982b",
      "32de13b1536146bf90b17c9fdd2e6d6c",
      "606cdee9cb154f9eb59aa92e25654b79",
      "10d3ab46ac9944c9b20ff43547dd5ed5",
      "aba41a880c1b4b2ca9e6d16e3612534a",
      "d4d5266fc1554c90b458a64c1d6fc894",
      "c13fed680fee401e9f6ec45bfe81f204",
      "dc41d925060d49fab03d66a8b5b2b59a",
      "b2f7e59753394c89a3e9d5acabf57ffa",
      "8b562771447a457786a2f0bd402ccacb",
      "838eb66c4fd5492e9ebecfcbc72beea6",
      "13114dc7b8d444fe9e63005b7d77c333",
      "74b00c804a93449f82a921c8fa7d8897",
      "499ca448c8154855a6bbb8db971bb1f7",
      "4608f5975cfa470cb35e4b22162f23ce",
      "15584df327904214bc4dacd0887eec27",
      "6ee7b2ab29ed412fba9f20da40167e87",
      "6be2bb0b3de247359c4cafefb252d3fd",
      "82edfb1d909343379a1da0a1152146d5",
      "efeaf8705b354fc891caf1c8c3361f86",
      "85465d2324dc4b86aef62909b67d1f9b",
      "6ddc273078304d6aa731b19ca93a1a36",
      "cebaa9ed4110407d83097b4334dc780c",
      "58515c09779f4c5085b4ef9e7d57bacf",
      "24e7bbc4bf8448789e97992461c486db"
     ]
    },
    "id": "lArRuR_jaRyO",
    "outputId": "c64d66a2-9430-4208-a43f-78764aafb2c4"
   },
   "outputs": [
    {
     "data": {
      "application/vnd.jupyter.widget-view+json": {
       "model_id": "05dca552d837454aa73ff8363f2bdb22",
       "version_major": 2,
       "version_minor": 0
      },
      "text/plain": [
       "Downloading (…)okenizer_config.json:   0%|          | 0.00/700 [00:00<?, ?B/s]"
      ]
     },
     "metadata": {},
     "output_type": "display_data"
    },
    {
     "data": {
      "application/vnd.jupyter.widget-view+json": {
       "model_id": "4cc83630353e4e81898c9aba5aef67a2",
       "version_major": 2,
       "version_minor": 0
      },
      "text/plain": [
       "Downloading tokenizer.model:   0%|          | 0.00/500k [00:00<?, ?B/s]"
      ]
     },
     "metadata": {},
     "output_type": "display_data"
    },
    {
     "data": {
      "application/vnd.jupyter.widget-view+json": {
       "model_id": "10d3ab46ac9944c9b20ff43547dd5ed5",
       "version_major": 2,
       "version_minor": 0
      },
      "text/plain": [
       "Downloading (…)/main/tokenizer.json:   0%|          | 0.00/1.84M [00:00<?, ?B/s]"
      ]
     },
     "metadata": {},
     "output_type": "display_data"
    },
    {
     "data": {
      "application/vnd.jupyter.widget-view+json": {
       "model_id": "4608f5975cfa470cb35e4b22162f23ce",
       "version_major": 2,
       "version_minor": 0
      },
      "text/plain": [
       "Downloading (…)cial_tokens_map.json:   0%|          | 0.00/411 [00:00<?, ?B/s]"
      ]
     },
     "metadata": {},
     "output_type": "display_data"
    }
   ],
   "source": [
    "# preprocess\n",
    "clean_doc = clean_text(document)\n",
    "\n",
    "# chunk doc\n",
    "chunked_text_list = text_chunker(clean_doc)"
   ]
  },
  {
   "cell_type": "markdown",
   "metadata": {},
   "source": [
    "### Storing chunks into a list of questions to be fed into an LLM"
   ]
  },
  {
   "cell_type": "code",
   "execution_count": null,
   "metadata": {
    "id": "_vbQb2WlSUlR"
   },
   "outputs": [],
   "source": [
    "prompt = \"Based on the text, generate 10 different question and answer pairs.\\nText:\\n\"\n",
    "final_chunk_list = []\n",
    "for i, chunk in enumerate(chunked_text_list):\n",
    "    final_chunk_text = prompt + \"\\n\" + chunk\n",
    "    final_chunk_dict = {\n",
    "        'question_id': i + 1,\n",
    "        'text': final_chunk_text\n",
    "    }\n",
    "    final_chunk_list.append(final_chunk_dict)"
   ]
  },
  {
   "cell_type": "code",
   "execution_count": null,
   "metadata": {
    "colab": {
     "base_uri": "https://localhost:8080/"
    },
    "id": "ANQHGHjWBoWx",
    "outputId": "517abab0-ce6c-4aa8-81cd-1ffcc99242ca"
   },
   "outputs": [
    {
     "name": "stdout",
     "output_type": "stream",
     "text": [
      "[{'question_id': 1, 'text': 'Based on the text, generate 10 different question and answer pairs.\\nText:\\n\\nDSTA HORIZONS EDITORIAL TEAM\\n\\nEditor\\nKoh Tuan Yew\\n\\nCo-Editor\\nLee Siang Meng Alex\\n\\nMembers\\n\\nCai Kunming Alvin Ho Kwee Peng Juli\\nChang Chai Fung Lin Jyh Fang Kelvin\\nChim Tat Wee Reman Loh Kai Ip Alvin\\nChua Siew Ting Pearly Loke Yim Peng\\n\\nGoh Shi Hui Jaime Loo Jang Wei\\n\\nHeng Chye Hwee Ng Yeow Chong Ivan\\n\\nHeng Yinghui Elizabeth\\n\\nTechnical Editor\\n\\nProfessor Khoo Boo Cheong\\nTemasek Laboratories\\nNational University of Singapore\\n\\nReaders can access DSTA Horizons at\\nwww.dsta.gov.sg/dstahorizons\\n\\nWe welcome your feedback. Please send all correspondence to:\\n\\nDSTA Horizons Editorial Team\\nDSTA Academy\\n\\n1 Depot Road\\n\\nSingapore 109679\\n\\nEmail: dstahorizons@dsta.gov.sg\\n\\nDSTA Horizons\\n\\nIssue 16\\n\\nISSN 2339-529X (print) ISSN 2339-5303 (online)\\n©2022 Defence Science and Technology Agency\\n\\nNo part of this publication may be reproduced, stored or transmitted in any form or by any means without the prior\\nwritten permission of the Defence Science and Technology Agency, Singapore.\\n\\nThe opinions and views expressed in this publication are those of the authors and do not necessarily reflect the\\nviews of the Defence Science and Technology Agency, Singapore.\\n\\nAll information correct at time of publication.\\n\\n \\n\\x0cCONTENTS\\n\\n12\\n\\n20\\n\\n30\\n\\n40\\n\\n52\\n\\n60\\n\\nEditorial\\n\\nNurturing a Design Innovation and User Experience Culture in DSTA\\nCHANG Yong Chia Jennifer\\n\\nOperational Technology Capability Roadmap: Architecture and Competency\\nas Key Enablers\\nYEO Kai Leng Teresa, TONG Ming Shu, YING Jie Hao Jeff, SHEN Zihong\\n\\nSafety Design Considerations on Lithium Batteries Use in Underwater\\nSystems\\nBUI Mao Jin Alvin, LIM Hong Han, TAN Huang Hong\\n\\nEvolution of DSTA’s Fragmentation Lethality Assessment\\nGOH Con Jun Roy, PHANG Wenfen, YAP Kah Leng, YUEN Ming Fatt\\n\\nManagement of Noise from Live Firing Activities\\nLIM Chuan Heng Kelvin, TAN Shi Bei\\n\\nDigitising Backward Contact Tracing\\nMEO Kok Eng, SIN Daren, CHEW Weng Kit Aaron\\n\\nA Journey of Innovation - Developing a Robust and Accurate Temperature\\nSelf-Check Kiosk\\nLAW Teck Hiang, CHAN Shi Jie Donovan, CHEN Mingyi Edmund, YONG Seng Choon\\n\\nDSTA HORIZONS | 2021/2022\\n\\n1\\n\\x0cEDITORIAL\\n\\nKoh Tuan Yew\\nPresident\\nDSTA Academy\\n\\nThe COVID-19 pandemic has brought unprecedented\\ndisruptions and accelerated the trend of digitalisation. At the\\nsame time, technology continues to advance rapidly. As we\\nadapt to a new normal, it is imperative that DSTA continues\\nto innovate and harness technology to deliver advanced\\ncapabilities for the nation’s defence and security needs.'}, {'question_id': 2, 'text': 'Based on the text, generate 10 different question and answer pairs.\\nText:\\n\\nThe COVID-19 pandemic has brought unprecedented\\ndisruptions and accelerated the trend of digitalisation. At the\\nsame time, technology continues to advance rapidly. As we\\nadapt to a new normal, it is imperative that DSTA continues\\nto innovate and harness technology to deliver advanced\\ncapabilities for the nation’s defence and security needs.\\n\\nThe sixteenth issue of DSTA Horizons features seven\\narticles that share DSTA’s efforts in leveraging new ideas\\nand tools to improve existing processes and create new\\ndefence capabilities, as well as some of our contributions\\ntowards the nation’s fight against the COVID-19 pandemic.\\n\\nCutting DSTA’s_ multidisciplinary | domains,\\n‘Nurturing a Design Innovation and User Experience\\nCulture in DSTA’ highlights our move to transform the\\norganisational culture through an increased focus on Design\\nInnovation (Dl) and User Experience (UX). The article looks\\n\\nacross\\n\\n2 DSTAHORIZONS | 2021/2022\\n\\nat the importance of DI and UX and its applications in the\\norganisation and the design of an integrated Command,\\nControl and Communication System. In ‘Operational\\nTechnology Capability Roadmap: Architecture and\\nCompetency as Key Enablers’, the authors share the\\napproach and capability development journey in developing\\nsafe and secured operational technology systems for\\nMINDEF and the SAF. The article also outlines future work\\nto be undertaken for further development in this area.\\n\\n‘Safety Design Considerations on Lithium Batteries\\nUse in Underwater Systems’ highlights the challenges in\\nmanaging the safety of lithium battery use in underwater\\nsystems. It discusses the characteristics of lithium\\nbatteries, safety management approaches and how safety\\nis addressed in the design of lithium battery-powered\\nunderwater systems using a system safety approach of\\nhazard identification and mitigations.\\n\\x0c‘Evolution of DSTA’s’ Fragmentation Lethality\\nAssessment’ offers insights into DSTA’s fragment lethality\\nassessment capability, and studies how advances in\\ncomputer technology as well as digitalisation can further\\nenhance this capability; while ‘Management of Noise from\\nLive Firing Activities’ studies the key factors that affect\\npropagation of detonation sounds from live firing activities.\\nIt also touches on literature research, trials conducted,\\nas well as the analysis and recommendations for noise\\nmitigation measures.\\n\\nWhen the COVID-19 pandemic hit Singapore, a Contact\\nTracing Centre was established and contact tracing was\\nadopted as one of the national strategies to curb the spread\\nof the virus. ‘Digitising Backward Contact Tracing’\\ncaptures the DSTA team’s experiences and considerations\\nin delivering the Network Analysis Tool to help identify\\n\\nclusters and sources of infection. As fever is one of the\\nsymptoms for those potentially infected with COVID-19,\\n‘A Journey of Innovation - Developing a Robust and\\nAccurate Temperature Self-Check Kiosk’ outlines how\\nDSTA worked with various industry partners to develop\\nthe Temperature Self-Check Kiosk to allow individuals to\\nconduct temperature checks easily.\\n\\nBeyond the sharing of knowledge and insights to foster\\na culture of learning within the defence technology\\ncommunity, we hope DSTA Horizons will serve to inspire\\nfuture generations of engineers and scientists to delve\\ndeep into various fields of technology for defence and\\nbeyond. We welcome and look forward to glean more deep\\ninsights from this community, and would like to express\\nour appreciation to all authors for their contributions to this\\nissue of DSTA Horizons.\\n\\nDSTA HORIZONS | 2021/2022\\n\\n3\\n\\x0cNURTURING A DESIGN\\nINNOVATION AND USER\\nEXPERIENCE CULTURE IN DSTA\\n\\nCHANG Yong Chia Jennifer'}, {'question_id': 3, 'text': 'Based on the text, generate 10 different question and answer pairs.\\nText:\\n\\nDSTA HORIZONS | 2021/2022\\n\\n3\\n\\x0cNURTURING A DESIGN\\nINNOVATION AND USER\\nEXPERIENCE CULTURE IN DSTA\\n\\nCHANG Yong Chia Jennifer\\n\\n \\n\\nABSTRACT\\n\\nDesign Innovation (Dl) is a human-centred and interdisciplinary methodology to innovate and address complex challenges\\nin engineering. It can be seen as an integrated approach that comprises four elements - People, Process, Methods and\\nPrinciples. User Experience (UX) encompasses all aspects of the end-user’s interactions with an organisation, its services\\nand products. In DSTA, DI and UX are combined for strategic impact and organisational transformation while enhancing\\nuser experience and satisfaction in the solutions it creates for defence and national security. This article describes the\\nimportance of DI and UX (collectively referred to as DI-UX) and discusses its application in the organisation and the design\\nof an integrated Command, Control and Communication System.\\n\\nKeywords: design innovation, transformation strategy, design methodology, user experience, user-centric design\\n\\n \\n\\nINTRODUCTION\\n\\nWe live in a world that is perpetually changing, one that is\\nfraught with complex challenges and uncertainties. The ever-\\nevolving threat landscape and technological climate today\\nmeans that the Singapore Armed Forces (SAF) will need to\\nrapidly innovate and transform the way in which wars are\\nfought in the digital age to maintain a technology edge over\\nits adversaries.\\n\\nSingapore’s declining citizen population is another immutable\\nchallenge that the SAF will need to tackle. With up to 30%\\nfewer National Servicemen by 2030 (Ng, 2016), any technology\\ndeveloped for the SAF must not only be manpower-efficient,\\nbut also intuitive to use.\\n\\nThe need for enhanced user experience (UX) in our solutions is\\neven more important as the younger generation of SAF soldiers\\nare accustomed to the latest technology and interactive\\ndevices. As leading consumers of technology in the future\\n(Ostermeier, 2021), UX can no longer be an afterthought, but\\nwill be an increasing necessity in military solutions.\\n\\n4 DSTAHORIZONS | 2021/2022\\n\\nTHE DSTA DESIGN JOURNEY\\n\\nAs a statutory board under the Ministry of Defence, DSTA\\nis responsible for delivering technological solutions to the\\nSAF. The nature of work in DSTA spans a wide spectrum to\\nensure that the SAF continues to be a formidable fighting\\nforce. In light of the changing threat landscape and increasing\\nexpectations for superior UX in our solutions, DSTA has\\ninvested heavily in developing Design Innovation (Dl) and UX\\ncapabilities since 2015.\\n\\nThe goal of Dl is to tackle complex problems using the mindset\\nand approach of a designer. It is a user-centric methodology for\\nsystematic innovation, and aims to find the right solutions that\\nwill create the desired results for the right problem. DI acts as\\na Catalyst to effect innovative, user-centric and future-oriented\\nthinking to drive enterprise-level transformation. It emphasises\\nempathy, which is a key skill to enable deep understanding of\\nusers, opens up opportunities in their business objectives and\\nmissions, and consequently informs how technologies can be\\nbetter designed to deliver real value and impact.\\n\\x0cUX aims to create frictionless and desirable experience in all\\naspects of the end-user’s interaction with products, services\\nand systems. The increase in expectations for good UX and the\\ngradual reduction of manpower has driven the need for DSTA\\nto raise the bar of design quality. Together, DI and UX design\\naims to deliver impactful solutions with delightful experience.\\n\\nSeeding the DI Culture'}, {'question_id': 4, 'text': 'Based on the text, generate 10 different question and answer pairs.\\nText:\\n\\nSeeding the DI Culture\\n\\nDSTA began seeding a culture of DI within the organisation with\\na series of initiatives to equip staff with DI knowledge and skills\\nthrough a strategic partnership with the Singapore University\\nof Technology and Design (SUTD), more specifically, the\\nSUTD-MIT International Design Centre (IDC). The partnership\\n(DesignSingapore Council, 2020) resulted in a bespoke DI\\nCourse co-designed by both partners to train DSTA engineers\\nwith DI skills simultaneously while working on high priority\\nprojects. Depending on the area of application, DI course\\noutcomes typically ranged from solution proposals in the form\\nof digital products, to policy changes and services provided.\\n\\nWith its commencement in 2015, the DI course focused\\non two key objectives: (1) to develop engineers with\\nfoundational DI mindsets, principles and methods; and (2)\\nto enhance understanding through application of DI on real\\ntopics and projects. This collaboration combined DSTA’s\\nstrength in systems engineering and SUTD-IDC’s expertise\\nin taking a human-centred multidisciplinary approach to\\nengineering design.\\n\\nDesigning the DI Course\\n\\nDuration, Format and Structure\\n\\nEvery run of the course conducted was improved from the\\npreceding run based on participant feedback. Beginning with\\na two-day workshop that grew into a three-day bootcamp,\\nthe course duration was eventually expanded from 12 to 15\\nweeks and incorporated multiple opportunities for project\\nconsultation with SUTD and DSTA DI experts (e.g. framing\\nworkshop to help teams frame and strategise their approach,\\nsprint consultations, experiential wall reviews, etc.). At the end\\nof the course, a final presentation would be made to DSTA’s\\nsenior management where participating teams showcased\\ntheir innovations and solutions for their project topics. With\\nsupport from management, the proposals for the project\\nwould subsequently be pursued by the respective programme\\n\\ncentres (PCs), and the presentation archived as case studies\\n‘or future sharing.\\n\\nTopic Curation and Team Formation\\n\\nThe approach to curating topics was also adjusted over the\\nyears as DI maturity in the organisation grew. During the\\n‘ormative years of the DI course, participants would scope\\nout slices of their existing projects to apply DI. However,\\nleading impactful change in capability development required\\nexperience and expertise from multiple disciplines, thereby\\ndriving the need to change how teams were formed, both in\\ncomposition and in size. This resulted in a progressive elevation\\nrom applying DI at a project-level to the enterprise-level,\\nwhere senior leadership would take on the role as “domain\\nchampions” to identify crucial and high impact challenges to\\nSAF and DSTA. These topics would then be undertaken by\\nparticipating teams from different PCs and corporate entities,\\nand in some cases, with users from the SAF.\\n\\n \\n\\nBenchmarking Progress in DI Culture\\n\\nOver the years, DSTA’s DI strategy continuously evolved\\nalongside advancements in the field, organisational needs and\\nstaff feedback.\\n\\nA user research study was conducted in 2019 with the course\\nparticipants holding appointments ranging from Engineers\\nto Head Capability Development to gain insights into their\\nexperience with their DI journeys. The research informed\\nthat the programme provided participants with learning\\nopportunities that were rare in their day-to-day work routines.\\nThe exposure opened their eyes to new possibilities that would\\notherwise have gone unnoticed, and allowed them to build on\\none another’s strengths in developing and creating innovative\\nsolutions. DI provided them with a common language\\nand platform for innovation and collaboration, even if they\\npossessed different skills with varying experience.'}, {'question_id': 5, 'text': \"Based on the text, generate 10 different question and answer pairs.\\nText:\\n\\nIn 2019, DSTA also began conducting annual organisation-wide\\nsurveys (Moultrie, Clarkson, & Probert, 2007) and stocktaking\\nto track the impact of DI on the organisation and on staff\\nthrough their project outcomes. In the most recent survey\\nconducted, the results showed an increase in the organisation\\ndesign maturity from an overall score of 1.97 (Level 2) before\\n\\nDSTA HORIZONS | 2021/2022\\n\\n5\\n\\x0c\\nIn the same year, DSTA also received the Singapore Good\\nDesign Mark? 2019.\\n\\nAdvancing DI and Strengthening Culture\\n\\nTo date, more than 700 staff have been trained across the\\norganisation — achieving a ratio of one DI Practitioner to\\nfive staff. Advancing the skills and mindsets of our existing\\nDI practitioners has become equally key to ensure continued\\nrelevancy and impact in their work.\\n\\nEngagement initiatives such as Fireside Chats, Workshops\\nand Seminars were started to understand ground challenges,\\nadvance practitioners' knowledge in design practices\\nand techniques, and promulgate lessons learnt as part of\\nknowledge sharing within the organisation.\\n\\nDSTA has also taken a further step to establish a centralised DI-\\nUX team comprising a growing pool of specialist UX Architects\\nand UX Designers. The UX practitioners complement Dl-trained\\nengineers and bring specialist UX design skillsets into key\\nprojects. Key projects will now be supported by at least one\\npair of UX Architect and UX Designer to lead in UX activities,\\nwhile they work closely with Dl-trained project engineers.\\n\\nWith this new project teaming, DSTA conceived a DI-UX\\nprocess by combining lessons learnt from various design\\nwork and collaboration with leading technology companies.\\nOne key aspect that differentiates the DSTA DI-UX process\\nfrom general design thinking methodology is the integration\\nof best practices and techniques from DI, lean UX and agile\\n\\n\\n6 DSTAHORIZONS | 2021/2022\\n\\x0cNURTURING A DESIGN INNOVATION AND USER EXPERIENCE CULTURE IN DSTA\\n\\nCHALLENGES IN APPLICATION\\n\\nAs one may expect, challenges arose as DI-UX was applied\\nacross the board in projects under different circumstances.\\nPractitioner feedback during the DI Fireside series revealed\\nthree key challenges faced across the organisation, as\\nsummarised below.\\n\\nResource and Skillset Limitation\\n\\nDI can be applied in any phase of a project, and practitioners\\noften find it difficult to apply DI late into the project phase,\\nespecially when many other constraints had already set in.\\nWhen DI efforts were not catered for early on in the project,\\nmanaging project schedule, resources and scope became\\nchallenging when changes needed to be made downstream.\\nSome of these changes required additional effort to effect\\nchange, which was difficult due to a lack of bandwidth.\\nOthers required competency in specialist design areas,\\nnamely UX architecting and UX design, which were lacking\\namong the practitioners.\\n\\nGaps in Mindset\\n\\nFear of risk-taking and resistance to change were two of the\\nmost prominent gaps in mindset raised by practitioners. For\\nexample, some stakeholders sought risk-free solutions, while\\nothers were unwilling to change workflows and processes.\\nThis unwillingness to deviate from established norms was\\nalso observed in some teams as some of them felt that they\\nwere not senior enough to effect change.\\n\\nDesign Processes, Systems and\\nInfrastructure\"}, {'question_id': 6, 'text': \"Based on the text, generate 10 different question and answer pairs.\\nText:\\n\\nDesign Processes, Systems and\\nInfrastructure\\n\\nIt was observed that the full design process was usually too\\ntedious to execute because of two main reasons. First, Dl\\nand UX activities were mostly executed manually, generating\\nphysical design artefacts in the process. Practitioners faced\\nhigh barriers in digitising these artefacts due to additional\\nefforts required to do so. Second, design templates or UX\\npatterns were not standardised across the organisation, and\\nindividuals had to create their own.\\n\\nInitiatives\\n\\nThese challenges compelled DSTA to reorganise DI-UX at\\nthe organisation level. The DI-UX Team is presently exploring\\nvarious ways to address challenges associated with resource\\nand skillset limitation.\\n\\nFirst, UX support will be progressively scaled up across PCs.\\nSecond, DI fireside activities will continue to be conducted to\\nimbue the right mindsets and knowledge sharing to strengthen\\nthe overall culture of DI among staff. This is to address the\\ngeneral lack of confidence in applying DI. Third, the DI-UX Team\\nhas also developed a DI Operations Playbook with templates\\nto streamline design processes across the organisation. This\\nwill eliminate the need for additional efforts from individual\\nPCs to create separate templates. To enable consistent design\\nquality and practices across the organisation, the team has\\nalso built a design system containing reusable patterns for\\ndigital systems.\\n\\nDI-UX APPLICATION IN THE\\nINTEGRATED C3 SYSTEM\\n\\nBackground\\n\\nThe integrated Command, Control and Communication\\n(C3) System was envisaged to be a platform for multiple\\ngovernment agencies to command, control and communicate\\nwhen managing and responding to incidents in large-scale\\nevents, such as the Singapore's National Day Parade.\\n\\nDI Methodology\\n\\nThe team began with the discovery of the problem space\\nwithin a few agencies in the public sector. User research\\nwas conducted over seven months, with over 100 users\\nfrom 40 operational units across four government ministries,\\nto understand their respective operations, work processes\\nand challenges. Research methods included user interviews,\\nfocus groups, in-situ observations, ideation methods and\\ndesign critiques. The research informed three key persons\\ninvolved in the management of large-scale events: Decision\\nMaker, Coordinating Officer and Ground Officer. To facilitate\\ndeeper conversations with the users and stakeholders, several\\nversions of C3 prototypes were created in varying fidelity and\\nshared with them for their feedback.\\n\\nDiscovering and Defining the Problem\\nSpace\\n\\nSome of the key opportunities and insights gained from the\\nuser research were as follows:\\n\\n(1) No Access to C3 When Needed As Users Were Always\\non the Move - Many of the C3 systems were housed only\\n\\nDSTA HORIZONS | 2021/2022\\n\\x0c(2)\\n\\n(3)\\n\\nin operation centres at different locations. Users had to\\nvisit these operation centres and log in to terminals before\\nthey could access the C3 systems. This hindered users\\nwho were frequently on the move.\\n\\nUsers Rely on WhatsApp and Emails — A number of users\\ndid not have access to the C3 systems. Yet, they were still\\ncalled on to contribute to the operations, and they had to\\nrely on personal applications like WhatsApp and emails.\\nHowever, WhatsApp was not designed for C3 operations,\\nand users often became lost in the large volume of\\nmessages. Sensemaking and locating relevant information\\nbecame a major challenge in large-scale missions where\\nmultiple groups and agencies had to work together. The\\nchallenge was exacerbated by having to port information\\nover to multiple applications.\"}, {'question_id': 7, 'text': 'Based on the text, generate 10 different question and answer pairs.\\nText:\\n\\nMultiple Action Parties Lacking a Common Platform to\\nFacilitate Coordination —- The team observed that multiple\\naction parties were involved when working on incidents.\\nEven if the incident was under the jurisdiction of one\\nspecific agency, people from various departments would\\nhave to work together. There was no single integrated\\nsystem that could be used.\\n\\n(4) Disparate Systems in Peace Time and Crisis Means\\nMore Training is Required to Prevent Deskilling -\\nAlthough users do not necessarily need to manage large-\\nscale events frequently, they still needed to manage daily\\noperations that required coordination and collaboration\\nwith different parties. Should an incident escalate into a\\nmajor event, these users would be required to be familiar\\nwith their systems in order to respond quickly to the\\nevent. However, users have various systems with different\\noperating procedures for different types of scenarios.\\nThis led to frequent training to familiarise themselves with\\nsystems to prevent deskilling.\\n\\nDeveloping and Delivering the Proposed\\nSolution\\n\\nSeveral versions of the prototypes were created through the\\nthe key screens designed for the core functions.\\n\\n8 DSTAHORIZONS | 2021/2022\\n\\x0cNURTURING A DESIGN INNOVATION AND USER EXPERIENCE CULTURE IN DSTA\\n\\n\\nThe prototype went through many iterations with the various\\nagencies on multiple tracks of design and development. Every\\nnew insight from each iteration contributed to the product\\nimprovement. Based on insights gained, the team designed a\\ngeneric C3 system that achieved the following goals:\\n\\n(1) Integrated C3 System - As mentioned earlier, users\\nacross agencies did not have access to C3 systems when\\nthey needed to respond to incidents, and when they did,\\nthey had to work with disparate systems. Having a single\\nintegrated C3 system fundamentally transformed the way\\nagencies collaborated with one another by breaking down\\noperational silos.\\n\\n(2) Significantly Quicken End-to-end Response Time\\n- Using multiple systems slowed down response time\\nbecause information had to be duplicated and transferred\\nacross systems. All parties now accessed and worked\\non the same system and used a common source of\\ninformation without having to rely on personal applications\\nlike WhatsApp or emails.\\n\\n(3) Scalable and Minimise Waste - With a generic C3\\nplatform, the development teams would not need to\\nrecreate the same features repeatedly in C3 systems for\\neach agency. Instead, they could build on the generic\\nplatform to develop bespoke functions by creating the\\ndedicated applications required by different agencies. This\\nhelped to streamline and minimise the overall effort.\\n\\nTo demonstrate how the solution worked, the team created a\\nvideo storyboard depicting a counter-terrorism scenario and\\nhow users should use the system to respond to the incident.\\nBefore the video production started, the team created scripts\\nfrom the concept video.\\n\\nDSTA HORIZONS | 2021/2022\\n\\n9\\n\\x0cUser Feedback\\n\\nThe video was presented to various user groups to obtain\\nfeedback on improvements, and specific applications that\\nthey would need. The users were better able to articulate their\\nneeds because they understood how they would coordinate\\nwith other agencies, and the specific apps they would need to\\nfill any operational gaps.\\n\\nThe users were encouraged by the design and could see\\nthe value of the system. Others were excited by the new\\n\\n10 DSTAHORIZONS | 2021/2022\\n\\ncapabilities and potential use cases that they could apply to\\ntheir own agencies.\\n\\nThe system went on trial during Singapore’s National Day\\nParade in 2019, and has since been adapted as a baseline for\\n\\nother C3 systems.\\n\\nSystem at a glance.\\n\\n\\n\\x0cNURTURING A DESIGN INNOVATION AND USER EXPERIENCE CULTURE IN DSTA\\n\\nCONCLUSION'}, {'question_id': 8, 'text': 'Based on the text, generate 10 different question and answer pairs.\\nText:\\n\\nThe system went on trial during Singapore’s National Day\\nParade in 2019, and has since been adapted as a baseline for\\n\\nother C3 systems.\\n\\nSystem at a glance.\\n\\n\\n\\x0cNURTURING A DESIGN INNOVATION AND USER EXPERIENCE CULTURE IN DSTA\\n\\nCONCLUSION\\n\\nDSTA has come a long way in her design journey. The DI\\ncourse has trained over 700 staff and built a critical mass of\\nDI practitioners across various PCs and corporate entities.\\nAlthough training will continue as part of the strategy to raise,\\ntrain and sustain the DI practice in the organisation, DSTA\\nwill now focus on strengthening the community and design\\nculture within the organisation. Apart from the regular ongoing\\nfireside activities to refresh and improve understanding in\\ndesign practices, formal UX teams will be established to\\nextend specialist design support in key projects across\\nthe organisation. The UX teams will also drive enterprise-\\nlevel design strategies. DSTA will continue to scale design\\npractices and strive to become an organisation that brings\\ninnovation through the way design is managed and executed\\nin her projects.\\n\\nREFERENCES\\n\\nDerome, J. (2019, April 11). Designing for digital natives: Are\\nyou ready for Generation Z? UserTesting. Retrieved from\\nhttps://www.usertesting.com/blog/gen-z\\n\\nDesignSingapore Council. (2020, January 17). A design\\ninnovation culture to elevate Singapore’s defence science\\ngame. Retrieved from https://www.designsingapore.org/\\nstories/a-design-innovation-culture-to-elevate-singapores-\\ndefence-science-game.html\\n\\nMoultrie, J., Clarkson, P. J., & Probert, D. (2007). Development\\nof a design audit tool for SMEs. The Journal of Product\\nManagement Innovation, 24(4), 335-368. doi: 10.1111/j.1540-\\n5885.2007.00255.x\\n\\nNg, Jun Sen. (2016, July 1). Ng Eng Hen: SAF must do\\nmore with less. The New Paper. Retrieved from http://tnp.\\nstraitstimes.com/news/singapore/ng-eng-hen-saf-must-do-\\nmore-less\\n\\nOstermeier, |. (2021, April 22). UX Vision - Gen Z as drivers of\\nnew expectations. SAP Community. Retrieved from blogs.sap.\\ncom/2021/04/22/ux-vision-millennials-consumers-as-drivers-\\nof-new-expectations/\\n\\nENDNOTES\\n\\n1 The Singapore Good Design (SG Mark) was launched in\\n2013 by Design Business Chamber Singapore in partnership\\nwith the Japan Institute of Design Promotion that founded\\nthe prestigious Good Design Award (G Mark). SG Mark’s\\noverarching goal is to impact businesses, improve quality of\\nlife of different communities (individuals, corporations and\\ncountries) and influence culture.\\n\\n\\nCHANG Yong Chia Jennifer is a Principal\\nUX Architect (C3 Development). She\\nleads the technical build-up in Design\\nInnovation (Dl) literacy and advances\\nthe DI methodology and application\\nthrough partnership with\\nHigher Learning. She plays a key role in\\nthe elevation of DI to the enterprise level\\nand drives the advancement of DI practice in DSTA through\\nFireside sessions. Jennifer graduated with a Master of Science\\n(Information Studies) from Nanyang Technological University\\nin 2007 and a Bachelor of Science (Computer & Information\\nSciences) from the National University of Singapore in 2000.\\n\\nInstitutes of'}, {'question_id': 9, 'text': \"Based on the text, generate 10 different question and answer pairs.\\nText:\\n\\nInstitutes of\\n\\nDSTA HORIZONS | 2021/2022\\n\\n11\\n\\x0cOPERATIONAL TECHNOLOGY\\nCAPABILITY ROADMAP:\\nARCHITECTURE AND\\nCOMPETENCY AS KEY ENABLERS\\n\\nYEO Kai Leng Teresa, TONG Ming Shu, YING Jie Hao Jeff, SHEN Zihong\\n\\n \\n\\nABSTRACT\\n\\nOperational Technology (OT) systems are present in our everyday lives, and will bring about significant impact when\\ndisrupted. The push for digitalisation and connectivity has magnified the inadequacies in security considerations in OT\\nsystems, and highlighted their susceptibility to cybersecurity threats. This article will share the approach and capability\\ndevelopment journey taken to cyber secure and cater for future digital needs of Ministry of Defence and Singapore Armed\\nForces' OT systems. The focus is on developing a practical and secure architecture to meet future needs and demands of\\nIndustrial Control Systems, and also on training human capital to undertake these works. Finally, the article provides some\\n\\noutlines for the future work in this capability area.\\n\\nKeywords: operational technology, cybersecurity, capability development\\n\\n \\n\\nINTRODUCTION\\n\\nOperational Technology (OT) refers to technologies involving\\ninterconnected devices and computers for the monitoring\\nand controlling of physical processes. These OT systems are\\ncommonly found in the transport, energy, water and defence\\n\\nMany may not be aware that OT systems are present in\\nour everyday lives and drive the way we function and work.\\nHowever, these systems are not designed with cybersecurity\\nin mind, as the focus is on functionality and availability. This\\nmakes them attractive targets of cyberattacks, which can\\ncause high mission impact, bring disruption to lives and result\\nin financial losses. One of the most significant attacks was\\nthe Stuxnet event, a cyberattack which caused physical and\\nirreversible damage to the centrifuges in lran’s nuclear plants.\\n\\n\\n12 DSTAHORIZONS | 2021/2022\\n\\x0cRecognising the increasing use of cyber means to disrupt OT\\nsystems, DSTA embarked on a journey to develop an approach\\nto address the new needs brought about by the convergence\\nof the Information Technology (IT) and OT spaces to achieve\\nnew capabilities and productivity. The two key enablers to\\nsecure OT were identified to be architecture standardisation\\nand competency development. In the defence context, OT\\ncomprises control systems on ships or aircraft, data links and\\nbuilding control systems. The focus of this article is on building\\ncontrol systems, which are becoming increasingly digitalised\\nwith remote monitoring and control capabilities. The article\\naims to describe DSTA’s journey in developing the two key\\nenablers, as well as identifying future efforts and priorities.\\n\\nWHAT ARE INDUSTRIAL CONTROL\\nSYSTEMS?\\n\\nAn Industrial Control System (ICS) is a subset of OT systems.\\nIt is a combination of control components (e.g. electrical,\\nmechanical, hydraulic, pneumatic) that act together to facilitate\\ndetection and maintain control of physical operations through\\ndata acquisition, visualisation and controls. They play a critical\\n\\nrole in maintaining continuous operations, as well as ensuring\\nfunctional and technical safety in the prevention of accidents\\nand disasters.\\n\\nICS includes Supervisory Control and Data Acquisition\\n(SCADA)! systems, Distributed Control Systems?, and other\\ncontrol system configurations such as Programmable Logic\\nand connectivity of an ICS. They are typically deployed for\\nmonitoring and/or the control of building related services\\ndistribution such as power, water and fuel, cooling, mechanised\\nequipment and physical security.\"}, {'question_id': 10, 'text': 'Based on the text, generate 10 different question and answer pairs.\\nText:\\n\\nICS includes Supervisory Control and Data Acquisition\\n(SCADA)! systems, Distributed Control Systems?, and other\\ncontrol system configurations such as Programmable Logic\\nand connectivity of an ICS. They are typically deployed for\\nmonitoring and/or the control of building related services\\ndistribution such as power, water and fuel, cooling, mechanised\\nequipment and physical security.\\n\\nwhich are analogue devices used to monitor and measure\\nthe telemetry of equipment such as the rotational speed of a\\ngenerator. The sensors will interpret the readings and report\\nback a change of state. Actuators are used to execute the\\ncontrols via a change of contact point (ON or OFF state).\\nPLCs are embedded devices that are pre-programmed with\\nalgorithms known as ladder logic. The role of the PLC is to\\ncompare the inputs received from the sensors against a pre-\\n\\n\\nDSTA HORIZONS | 2021/2022\\n\\n13\\n\\x0cset threshold. When there are deviations, the PLC will issue the\\nnecessary control signals to the actuators to bring the system\\nback to the ideal state. The PLC is also the interface with the IT\\nserver, and will be able to receive overriding commands from\\nthe server to change the pre-set threshold. Remote Terminal\\nUnits are used to interface multiple PLCs to the server, and\\nhandle the interface and translation of ICS protocols, for\\nexample Serial to Ethernet.\\n\\nInterface (HMI), servers and networking equipment to monitor\\nand control the entire ICS system. The HMI is generally the\\npresents information to the operator. The HMI may also accept\\ncontrol instructions from the operator and sends it to the\\nserver for processing. The ICS servers will poll the status of\\nthe systems periodically and present the information on the\\nHMI workstation. It will also receive the control instructions\\nfrom the HMI and send the commands to the field device to\\nactivate the control process. The Historian is the database that\\nkeeps tracks of all systems status and commands for fault\\ntroubleshooting purposes.\\n\\nEVOLUTION OF INDUSTRIAL\\nCONTROL SYSTEMS\\n\\nEarly versions of ICS started with little automation and\\ndigitalisation. Many of the control and monitoring functions\\nused to be done locally with hard-wired relays and timers\\ncoupled with man-in-the-loop processes. As time progressed,\\nthe push for automation and enhacement to productivity led to\\nthe development of remote monitoring and control capabilities.\\n\\nWhen these systems and capabilities were developed in the\\n1970s, they were based on an air-gapped and standalone\\nconcepts, with vendor or Original Equipment Manufacturer\\nspecific components and protocols. The focus of the ICS\\ndeveloper and users then was on availability and safety, with\\nscant consideration for security. In fact, the main security\\nfeature was physical security, by keeping these devices behind\\nlocked gates and security guards. This has been the industry\\npractice for the last 30 years.\\n\\nIn the early 2000s, ICS started to shift from the use of\\nproprietary computing and communications to adopting\\ncommon industrial standards and open protocols which made\\nthem more “IT-like”. Yet, the mindset on how these systems\\nwere used and designed did not change. Engineering teams\\nmanaging these systems had little or no security awareness and\\n\\n14 DSTAHORIZONS | 2021/2022\\n\\ncontinued to rely on standalone designs and physical access\\ncontrol measures to protect these systems. The industry was\\nalso not well prepared to support new digital models of ICS\\nand was slow to apply IT security best practices. This resulted\\nin fundamental security gaps and resulted in several critical\\nICS becoming targets of cyberattacks.\\n\\nTHREAT LANDSCAPE'}]\n"
     ]
    }
   ],
   "source": [
    "print(final_chunk_list[:10])"
   ]
  },
  {
   "cell_type": "markdown",
   "metadata": {},
   "source": [
    "### Saving the questions into a .jsonl file"
   ]
  },
  {
   "cell_type": "code",
   "execution_count": null,
   "metadata": {
    "id": "uQMz5WSUBvvF"
   },
   "outputs": [],
   "source": [
    "import json\n",
    "\n",
    "def save_to_jsonl(lst, file_path):\n",
    "    with open(file_path, 'w') as file:\n",
    "        for line in lst:\n",
    "            json_line = json.dumps(line)\n",
    "            file.write(json_line + '\\n')"
   ]
  },
  {
   "cell_type": "code",
   "execution_count": null,
   "metadata": {
    "id": "8DMqvBiPHOnt"
   },
   "outputs": [],
   "source": [
    "save_to_jsonl(final_chunk_list, f'/content/{PDF_NAME}_questions.jsonl')"
   ]
  }
 ],
 "metadata": {
  "colab": {
   "provenance": []
  },
  "kernelspec": {
   "display_name": "Python 3 (ipykernel)",
   "language": "python",
   "name": "python3"
  },
  "language_info": {
   "codemirror_mode": {
    "name": "ipython",
    "version": 3
   },
   "file_extension": ".py",
   "mimetype": "text/x-python",
   "name": "python",
   "nbconvert_exporter": "python",
   "pygments_lexer": "ipython3",
   "version": "3.11.4"
  },
  "widgets": {
   "application/vnd.jupyter.widget-state+json": {
    "04520ed4f5c54fc995eb5714f0c79fa2": {
     "model_module": "@jupyter-widgets/controls",
     "model_module_version": "1.5.0",
     "model_name": "DescriptionStyleModel",
     "state": {
      "_model_module": "@jupyter-widgets/controls",
      "_model_module_version": "1.5.0",
      "_model_name": "DescriptionStyleModel",
      "_view_count": null,
      "_view_module": "@jupyter-widgets/base",
      "_view_module_version": "1.2.0",
      "_view_name": "StyleView",
      "description_width": ""
     }
    },
    "05dca552d837454aa73ff8363f2bdb22": {
     "model_module": "@jupyter-widgets/controls",
     "model_module_version": "1.5.0",
     "model_name": "HBoxModel",
     "state": {
      "_dom_classes": [],
      "_model_module": "@jupyter-widgets/controls",
      "_model_module_version": "1.5.0",
      "_model_name": "HBoxModel",
      "_view_count": null,
      "_view_module": "@jupyter-widgets/controls",
      "_view_module_version": "1.5.0",
      "_view_name": "HBoxView",
      "box_style": "",
      "children": [
       "IPY_MODEL_0842879fa692470eb303994675494c64",
       "IPY_MODEL_d5adc43186844049b8959255c358e9d8",
       "IPY_MODEL_8e6afc99a63746969fac7824aec70999"
      ],
      "layout": "IPY_MODEL_552e797a59ed4ce6a49c53e87c64c350"
     }
    },
    "0842879fa692470eb303994675494c64": {
     "model_module": "@jupyter-widgets/controls",
     "model_module_version": "1.5.0",
     "model_name": "HTMLModel",
     "state": {
      "_dom_classes": [],
      "_model_module": "@jupyter-widgets/controls",
      "_model_module_version": "1.5.0",
      "_model_name": "HTMLModel",
      "_view_count": null,
      "_view_module": "@jupyter-widgets/controls",
      "_view_module_version": "1.5.0",
      "_view_name": "HTMLView",
      "description": "",
      "description_tooltip": null,
      "layout": "IPY_MODEL_3c45fd4dec3f4e70b130c3cca48e94a9",
      "placeholder": "​",
      "style": "IPY_MODEL_04520ed4f5c54fc995eb5714f0c79fa2",
      "value": "Downloading (…)okenizer_config.json: 100%"
     }
    },
    "10d3ab46ac9944c9b20ff43547dd5ed5": {
     "model_module": "@jupyter-widgets/controls",
     "model_module_version": "1.5.0",
     "model_name": "HBoxModel",
     "state": {
      "_dom_classes": [],
      "_model_module": "@jupyter-widgets/controls",
      "_model_module_version": "1.5.0",
      "_model_name": "HBoxModel",
      "_view_count": null,
      "_view_module": "@jupyter-widgets/controls",
      "_view_module_version": "1.5.0",
      "_view_name": "HBoxView",
      "box_style": "",
      "children": [
       "IPY_MODEL_aba41a880c1b4b2ca9e6d16e3612534a",
       "IPY_MODEL_d4d5266fc1554c90b458a64c1d6fc894",
       "IPY_MODEL_c13fed680fee401e9f6ec45bfe81f204"
      ],
      "layout": "IPY_MODEL_dc41d925060d49fab03d66a8b5b2b59a"
     }
    },
    "13114dc7b8d444fe9e63005b7d77c333": {
     "model_module": "@jupyter-widgets/controls",
     "model_module_version": "1.5.0",
     "model_name": "ProgressStyleModel",
     "state": {
      "_model_module": "@jupyter-widgets/controls",
      "_model_module_version": "1.5.0",
      "_model_name": "ProgressStyleModel",
      "_view_count": null,
      "_view_module": "@jupyter-widgets/base",
      "_view_module_version": "1.2.0",
      "_view_name": "StyleView",
      "bar_color": null,
      "description_width": ""
     }
    },
    "15584df327904214bc4dacd0887eec27": {
     "model_module": "@jupyter-widgets/controls",
     "model_module_version": "1.5.0",
     "model_name": "HTMLModel",
     "state": {
      "_dom_classes": [],
      "_model_module": "@jupyter-widgets/controls",
      "_model_module_version": "1.5.0",
      "_model_name": "HTMLModel",
      "_view_count": null,
      "_view_module": "@jupyter-widgets/controls",
      "_view_module_version": "1.5.0",
      "_view_name": "HTMLView",
      "description": "",
      "description_tooltip": null,
      "layout": "IPY_MODEL_efeaf8705b354fc891caf1c8c3361f86",
      "placeholder": "​",
      "style": "IPY_MODEL_85465d2324dc4b86aef62909b67d1f9b",
      "value": "Downloading (…)cial_tokens_map.json: 100%"
     }
    },
    "19a81b968e7e49678fe07933f606b635": {
     "model_module": "@jupyter-widgets/controls",
     "model_module_version": "1.5.0",
     "model_name": "DescriptionStyleModel",
     "state": {
      "_model_module": "@jupyter-widgets/controls",
      "_model_module_version": "1.5.0",
      "_model_name": "DescriptionStyleModel",
      "_view_count": null,
      "_view_module": "@jupyter-widgets/base",
      "_view_module_version": "1.2.0",
      "_view_name": "StyleView",
      "description_width": ""
     }
    },
    "19b113f7e7944960bc63e5e63a965223": {
     "model_module": "@jupyter-widgets/controls",
     "model_module_version": "1.5.0",
     "model_name": "HTMLModel",
     "state": {
      "_dom_classes": [],
      "_model_module": "@jupyter-widgets/controls",
      "_model_module_version": "1.5.0",
      "_model_name": "HTMLModel",
      "_view_count": null,
      "_view_module": "@jupyter-widgets/controls",
      "_view_module_version": "1.5.0",
      "_view_name": "HTMLView",
      "description": "",
      "description_tooltip": null,
      "layout": "IPY_MODEL_32de13b1536146bf90b17c9fdd2e6d6c",
      "placeholder": "​",
      "style": "IPY_MODEL_606cdee9cb154f9eb59aa92e25654b79",
      "value": " 500k/500k [00:00&lt;00:00, 4.32MB/s]"
     }
    },
    "24e7bbc4bf8448789e97992461c486db": {
     "model_module": "@jupyter-widgets/controls",
     "model_module_version": "1.5.0",
     "model_name": "DescriptionStyleModel",
     "state": {
      "_model_module": "@jupyter-widgets/controls",
      "_model_module_version": "1.5.0",
      "_model_name": "DescriptionStyleModel",
      "_view_count": null,
      "_view_module": "@jupyter-widgets/base",
      "_view_module_version": "1.2.0",
      "_view_name": "StyleView",
      "description_width": ""
     }
    },
    "32de13b1536146bf90b17c9fdd2e6d6c": {
     "model_module": "@jupyter-widgets/base",
     "model_module_version": "1.2.0",
     "model_name": "LayoutModel",
     "state": {
      "_model_module": "@jupyter-widgets/base",
      "_model_module_version": "1.2.0",
      "_model_name": "LayoutModel",
      "_view_count": null,
      "_view_module": "@jupyter-widgets/base",
      "_view_module_version": "1.2.0",
      "_view_name": "LayoutView",
      "align_content": null,
      "align_items": null,
      "align_self": null,
      "border": null,
      "bottom": null,
      "display": null,
      "flex": null,
      "flex_flow": null,
      "grid_area": null,
      "grid_auto_columns": null,
      "grid_auto_flow": null,
      "grid_auto_rows": null,
      "grid_column": null,
      "grid_gap": null,
      "grid_row": null,
      "grid_template_areas": null,
      "grid_template_columns": null,
      "grid_template_rows": null,
      "height": null,
      "justify_content": null,
      "justify_items": null,
      "left": null,
      "margin": null,
      "max_height": null,
      "max_width": null,
      "min_height": null,
      "min_width": null,
      "object_fit": null,
      "object_position": null,
      "order": null,
      "overflow": null,
      "overflow_x": null,
      "overflow_y": null,
      "padding": null,
      "right": null,
      "top": null,
      "visibility": null,
      "width": null
     }
    },
    "34eb80b24eae48e8ace4c35ed69017d1": {
     "model_module": "@jupyter-widgets/controls",
     "model_module_version": "1.5.0",
     "model_name": "ProgressStyleModel",
     "state": {
      "_model_module": "@jupyter-widgets/controls",
      "_model_module_version": "1.5.0",
      "_model_name": "ProgressStyleModel",
      "_view_count": null,
      "_view_module": "@jupyter-widgets/base",
      "_view_module_version": "1.2.0",
      "_view_name": "StyleView",
      "bar_color": null,
      "description_width": ""
     }
    },
    "3c45fd4dec3f4e70b130c3cca48e94a9": {
     "model_module": "@jupyter-widgets/base",
     "model_module_version": "1.2.0",
     "model_name": "LayoutModel",
     "state": {
      "_model_module": "@jupyter-widgets/base",
      "_model_module_version": "1.2.0",
      "_model_name": "LayoutModel",
      "_view_count": null,
      "_view_module": "@jupyter-widgets/base",
      "_view_module_version": "1.2.0",
      "_view_name": "LayoutView",
      "align_content": null,
      "align_items": null,
      "align_self": null,
      "border": null,
      "bottom": null,
      "display": null,
      "flex": null,
      "flex_flow": null,
      "grid_area": null,
      "grid_auto_columns": null,
      "grid_auto_flow": null,
      "grid_auto_rows": null,
      "grid_column": null,
      "grid_gap": null,
      "grid_row": null,
      "grid_template_areas": null,
      "grid_template_columns": null,
      "grid_template_rows": null,
      "height": null,
      "justify_content": null,
      "justify_items": null,
      "left": null,
      "margin": null,
      "max_height": null,
      "max_width": null,
      "min_height": null,
      "min_width": null,
      "object_fit": null,
      "object_position": null,
      "order": null,
      "overflow": null,
      "overflow_x": null,
      "overflow_y": null,
      "padding": null,
      "right": null,
      "top": null,
      "visibility": null,
      "width": null
     }
    },
    "4608f5975cfa470cb35e4b22162f23ce": {
     "model_module": "@jupyter-widgets/controls",
     "model_module_version": "1.5.0",
     "model_name": "HBoxModel",
     "state": {
      "_dom_classes": [],
      "_model_module": "@jupyter-widgets/controls",
      "_model_module_version": "1.5.0",
      "_model_name": "HBoxModel",
      "_view_count": null,
      "_view_module": "@jupyter-widgets/controls",
      "_view_module_version": "1.5.0",
      "_view_name": "HBoxView",
      "box_style": "",
      "children": [
       "IPY_MODEL_15584df327904214bc4dacd0887eec27",
       "IPY_MODEL_6ee7b2ab29ed412fba9f20da40167e87",
       "IPY_MODEL_6be2bb0b3de247359c4cafefb252d3fd"
      ],
      "layout": "IPY_MODEL_82edfb1d909343379a1da0a1152146d5"
     }
    },
    "499ca448c8154855a6bbb8db971bb1f7": {
     "model_module": "@jupyter-widgets/controls",
     "model_module_version": "1.5.0",
     "model_name": "DescriptionStyleModel",
     "state": {
      "_model_module": "@jupyter-widgets/controls",
      "_model_module_version": "1.5.0",
      "_model_name": "DescriptionStyleModel",
      "_view_count": null,
      "_view_module": "@jupyter-widgets/base",
      "_view_module_version": "1.2.0",
      "_view_name": "StyleView",
      "description_width": ""
     }
    },
    "4cc83630353e4e81898c9aba5aef67a2": {
     "model_module": "@jupyter-widgets/controls",
     "model_module_version": "1.5.0",
     "model_name": "HBoxModel",
     "state": {
      "_dom_classes": [],
      "_model_module": "@jupyter-widgets/controls",
      "_model_module_version": "1.5.0",
      "_model_name": "HBoxModel",
      "_view_count": null,
      "_view_module": "@jupyter-widgets/controls",
      "_view_module_version": "1.5.0",
      "_view_name": "HBoxView",
      "box_style": "",
      "children": [
       "IPY_MODEL_beb2dc6afa7e407db748c6db6a730c0b",
       "IPY_MODEL_b305c2d42076478d8e8b73b31dbbc4ad",
       "IPY_MODEL_19b113f7e7944960bc63e5e63a965223"
      ],
      "layout": "IPY_MODEL_dd72594dc97e471dace5516fd211f9de"
     }
    },
    "552e797a59ed4ce6a49c53e87c64c350": {
     "model_module": "@jupyter-widgets/base",
     "model_module_version": "1.2.0",
     "model_name": "LayoutModel",
     "state": {
      "_model_module": "@jupyter-widgets/base",
      "_model_module_version": "1.2.0",
      "_model_name": "LayoutModel",
      "_view_count": null,
      "_view_module": "@jupyter-widgets/base",
      "_view_module_version": "1.2.0",
      "_view_name": "LayoutView",
      "align_content": null,
      "align_items": null,
      "align_self": null,
      "border": null,
      "bottom": null,
      "display": null,
      "flex": null,
      "flex_flow": null,
      "grid_area": null,
      "grid_auto_columns": null,
      "grid_auto_flow": null,
      "grid_auto_rows": null,
      "grid_column": null,
      "grid_gap": null,
      "grid_row": null,
      "grid_template_areas": null,
      "grid_template_columns": null,
      "grid_template_rows": null,
      "height": null,
      "justify_content": null,
      "justify_items": null,
      "left": null,
      "margin": null,
      "max_height": null,
      "max_width": null,
      "min_height": null,
      "min_width": null,
      "object_fit": null,
      "object_position": null,
      "order": null,
      "overflow": null,
      "overflow_x": null,
      "overflow_y": null,
      "padding": null,
      "right": null,
      "top": null,
      "visibility": null,
      "width": null
     }
    },
    "58515c09779f4c5085b4ef9e7d57bacf": {
     "model_module": "@jupyter-widgets/base",
     "model_module_version": "1.2.0",
     "model_name": "LayoutModel",
     "state": {
      "_model_module": "@jupyter-widgets/base",
      "_model_module_version": "1.2.0",
      "_model_name": "LayoutModel",
      "_view_count": null,
      "_view_module": "@jupyter-widgets/base",
      "_view_module_version": "1.2.0",
      "_view_name": "LayoutView",
      "align_content": null,
      "align_items": null,
      "align_self": null,
      "border": null,
      "bottom": null,
      "display": null,
      "flex": null,
      "flex_flow": null,
      "grid_area": null,
      "grid_auto_columns": null,
      "grid_auto_flow": null,
      "grid_auto_rows": null,
      "grid_column": null,
      "grid_gap": null,
      "grid_row": null,
      "grid_template_areas": null,
      "grid_template_columns": null,
      "grid_template_rows": null,
      "height": null,
      "justify_content": null,
      "justify_items": null,
      "left": null,
      "margin": null,
      "max_height": null,
      "max_width": null,
      "min_height": null,
      "min_width": null,
      "object_fit": null,
      "object_position": null,
      "order": null,
      "overflow": null,
      "overflow_x": null,
      "overflow_y": null,
      "padding": null,
      "right": null,
      "top": null,
      "visibility": null,
      "width": null
     }
    },
    "606cdee9cb154f9eb59aa92e25654b79": {
     "model_module": "@jupyter-widgets/controls",
     "model_module_version": "1.5.0",
     "model_name": "DescriptionStyleModel",
     "state": {
      "_model_module": "@jupyter-widgets/controls",
      "_model_module_version": "1.5.0",
      "_model_name": "DescriptionStyleModel",
      "_view_count": null,
      "_view_module": "@jupyter-widgets/base",
      "_view_module_version": "1.2.0",
      "_view_name": "StyleView",
      "description_width": ""
     }
    },
    "6be2bb0b3de247359c4cafefb252d3fd": {
     "model_module": "@jupyter-widgets/controls",
     "model_module_version": "1.5.0",
     "model_name": "HTMLModel",
     "state": {
      "_dom_classes": [],
      "_model_module": "@jupyter-widgets/controls",
      "_model_module_version": "1.5.0",
      "_model_name": "HTMLModel",
      "_view_count": null,
      "_view_module": "@jupyter-widgets/controls",
      "_view_module_version": "1.5.0",
      "_view_name": "HTMLView",
      "description": "",
      "description_tooltip": null,
      "layout": "IPY_MODEL_58515c09779f4c5085b4ef9e7d57bacf",
      "placeholder": "​",
      "style": "IPY_MODEL_24e7bbc4bf8448789e97992461c486db",
      "value": " 411/411 [00:00&lt;00:00, 22.6kB/s]"
     }
    },
    "6ddc273078304d6aa731b19ca93a1a36": {
     "model_module": "@jupyter-widgets/base",
     "model_module_version": "1.2.0",
     "model_name": "LayoutModel",
     "state": {
      "_model_module": "@jupyter-widgets/base",
      "_model_module_version": "1.2.0",
      "_model_name": "LayoutModel",
      "_view_count": null,
      "_view_module": "@jupyter-widgets/base",
      "_view_module_version": "1.2.0",
      "_view_name": "LayoutView",
      "align_content": null,
      "align_items": null,
      "align_self": null,
      "border": null,
      "bottom": null,
      "display": null,
      "flex": null,
      "flex_flow": null,
      "grid_area": null,
      "grid_auto_columns": null,
      "grid_auto_flow": null,
      "grid_auto_rows": null,
      "grid_column": null,
      "grid_gap": null,
      "grid_row": null,
      "grid_template_areas": null,
      "grid_template_columns": null,
      "grid_template_rows": null,
      "height": null,
      "justify_content": null,
      "justify_items": null,
      "left": null,
      "margin": null,
      "max_height": null,
      "max_width": null,
      "min_height": null,
      "min_width": null,
      "object_fit": null,
      "object_position": null,
      "order": null,
      "overflow": null,
      "overflow_x": null,
      "overflow_y": null,
      "padding": null,
      "right": null,
      "top": null,
      "visibility": null,
      "width": null
     }
    },
    "6ee7b2ab29ed412fba9f20da40167e87": {
     "model_module": "@jupyter-widgets/controls",
     "model_module_version": "1.5.0",
     "model_name": "FloatProgressModel",
     "state": {
      "_dom_classes": [],
      "_model_module": "@jupyter-widgets/controls",
      "_model_module_version": "1.5.0",
      "_model_name": "FloatProgressModel",
      "_view_count": null,
      "_view_module": "@jupyter-widgets/controls",
      "_view_module_version": "1.5.0",
      "_view_name": "ProgressView",
      "bar_style": "success",
      "description": "",
      "description_tooltip": null,
      "layout": "IPY_MODEL_6ddc273078304d6aa731b19ca93a1a36",
      "max": 411,
      "min": 0,
      "orientation": "horizontal",
      "style": "IPY_MODEL_cebaa9ed4110407d83097b4334dc780c",
      "value": 411
     }
    },
    "70e68a6de0034b58b44cc05b3e3df2a7": {
     "model_module": "@jupyter-widgets/base",
     "model_module_version": "1.2.0",
     "model_name": "LayoutModel",
     "state": {
      "_model_module": "@jupyter-widgets/base",
      "_model_module_version": "1.2.0",
      "_model_name": "LayoutModel",
      "_view_count": null,
      "_view_module": "@jupyter-widgets/base",
      "_view_module_version": "1.2.0",
      "_view_name": "LayoutView",
      "align_content": null,
      "align_items": null,
      "align_self": null,
      "border": null,
      "bottom": null,
      "display": null,
      "flex": null,
      "flex_flow": null,
      "grid_area": null,
      "grid_auto_columns": null,
      "grid_auto_flow": null,
      "grid_auto_rows": null,
      "grid_column": null,
      "grid_gap": null,
      "grid_row": null,
      "grid_template_areas": null,
      "grid_template_columns": null,
      "grid_template_rows": null,
      "height": null,
      "justify_content": null,
      "justify_items": null,
      "left": null,
      "margin": null,
      "max_height": null,
      "max_width": null,
      "min_height": null,
      "min_width": null,
      "object_fit": null,
      "object_position": null,
      "order": null,
      "overflow": null,
      "overflow_x": null,
      "overflow_y": null,
      "padding": null,
      "right": null,
      "top": null,
      "visibility": null,
      "width": null
     }
    },
    "74b00c804a93449f82a921c8fa7d8897": {
     "model_module": "@jupyter-widgets/base",
     "model_module_version": "1.2.0",
     "model_name": "LayoutModel",
     "state": {
      "_model_module": "@jupyter-widgets/base",
      "_model_module_version": "1.2.0",
      "_model_name": "LayoutModel",
      "_view_count": null,
      "_view_module": "@jupyter-widgets/base",
      "_view_module_version": "1.2.0",
      "_view_name": "LayoutView",
      "align_content": null,
      "align_items": null,
      "align_self": null,
      "border": null,
      "bottom": null,
      "display": null,
      "flex": null,
      "flex_flow": null,
      "grid_area": null,
      "grid_auto_columns": null,
      "grid_auto_flow": null,
      "grid_auto_rows": null,
      "grid_column": null,
      "grid_gap": null,
      "grid_row": null,
      "grid_template_areas": null,
      "grid_template_columns": null,
      "grid_template_rows": null,
      "height": null,
      "justify_content": null,
      "justify_items": null,
      "left": null,
      "margin": null,
      "max_height": null,
      "max_width": null,
      "min_height": null,
      "min_width": null,
      "object_fit": null,
      "object_position": null,
      "order": null,
      "overflow": null,
      "overflow_x": null,
      "overflow_y": null,
      "padding": null,
      "right": null,
      "top": null,
      "visibility": null,
      "width": null
     }
    },
    "79ce4a03353545e195a70ff8edc9e1f5": {
     "model_module": "@jupyter-widgets/base",
     "model_module_version": "1.2.0",
     "model_name": "LayoutModel",
     "state": {
      "_model_module": "@jupyter-widgets/base",
      "_model_module_version": "1.2.0",
      "_model_name": "LayoutModel",
      "_view_count": null,
      "_view_module": "@jupyter-widgets/base",
      "_view_module_version": "1.2.0",
      "_view_name": "LayoutView",
      "align_content": null,
      "align_items": null,
      "align_self": null,
      "border": null,
      "bottom": null,
      "display": null,
      "flex": null,
      "flex_flow": null,
      "grid_area": null,
      "grid_auto_columns": null,
      "grid_auto_flow": null,
      "grid_auto_rows": null,
      "grid_column": null,
      "grid_gap": null,
      "grid_row": null,
      "grid_template_areas": null,
      "grid_template_columns": null,
      "grid_template_rows": null,
      "height": null,
      "justify_content": null,
      "justify_items": null,
      "left": null,
      "margin": null,
      "max_height": null,
      "max_width": null,
      "min_height": null,
      "min_width": null,
      "object_fit": null,
      "object_position": null,
      "order": null,
      "overflow": null,
      "overflow_x": null,
      "overflow_y": null,
      "padding": null,
      "right": null,
      "top": null,
      "visibility": null,
      "width": null
     }
    },
    "82edfb1d909343379a1da0a1152146d5": {
     "model_module": "@jupyter-widgets/base",
     "model_module_version": "1.2.0",
     "model_name": "LayoutModel",
     "state": {
      "_model_module": "@jupyter-widgets/base",
      "_model_module_version": "1.2.0",
      "_model_name": "LayoutModel",
      "_view_count": null,
      "_view_module": "@jupyter-widgets/base",
      "_view_module_version": "1.2.0",
      "_view_name": "LayoutView",
      "align_content": null,
      "align_items": null,
      "align_self": null,
      "border": null,
      "bottom": null,
      "display": null,
      "flex": null,
      "flex_flow": null,
      "grid_area": null,
      "grid_auto_columns": null,
      "grid_auto_flow": null,
      "grid_auto_rows": null,
      "grid_column": null,
      "grid_gap": null,
      "grid_row": null,
      "grid_template_areas": null,
      "grid_template_columns": null,
      "grid_template_rows": null,
      "height": null,
      "justify_content": null,
      "justify_items": null,
      "left": null,
      "margin": null,
      "max_height": null,
      "max_width": null,
      "min_height": null,
      "min_width": null,
      "object_fit": null,
      "object_position": null,
      "order": null,
      "overflow": null,
      "overflow_x": null,
      "overflow_y": null,
      "padding": null,
      "right": null,
      "top": null,
      "visibility": null,
      "width": null
     }
    },
    "838eb66c4fd5492e9ebecfcbc72beea6": {
     "model_module": "@jupyter-widgets/base",
     "model_module_version": "1.2.0",
     "model_name": "LayoutModel",
     "state": {
      "_model_module": "@jupyter-widgets/base",
      "_model_module_version": "1.2.0",
      "_model_name": "LayoutModel",
      "_view_count": null,
      "_view_module": "@jupyter-widgets/base",
      "_view_module_version": "1.2.0",
      "_view_name": "LayoutView",
      "align_content": null,
      "align_items": null,
      "align_self": null,
      "border": null,
      "bottom": null,
      "display": null,
      "flex": null,
      "flex_flow": null,
      "grid_area": null,
      "grid_auto_columns": null,
      "grid_auto_flow": null,
      "grid_auto_rows": null,
      "grid_column": null,
      "grid_gap": null,
      "grid_row": null,
      "grid_template_areas": null,
      "grid_template_columns": null,
      "grid_template_rows": null,
      "height": null,
      "justify_content": null,
      "justify_items": null,
      "left": null,
      "margin": null,
      "max_height": null,
      "max_width": null,
      "min_height": null,
      "min_width": null,
      "object_fit": null,
      "object_position": null,
      "order": null,
      "overflow": null,
      "overflow_x": null,
      "overflow_y": null,
      "padding": null,
      "right": null,
      "top": null,
      "visibility": null,
      "width": null
     }
    },
    "85465d2324dc4b86aef62909b67d1f9b": {
     "model_module": "@jupyter-widgets/controls",
     "model_module_version": "1.5.0",
     "model_name": "DescriptionStyleModel",
     "state": {
      "_model_module": "@jupyter-widgets/controls",
      "_model_module_version": "1.5.0",
      "_model_name": "DescriptionStyleModel",
      "_view_count": null,
      "_view_module": "@jupyter-widgets/base",
      "_view_module_version": "1.2.0",
      "_view_name": "StyleView",
      "description_width": ""
     }
    },
    "8b562771447a457786a2f0bd402ccacb": {
     "model_module": "@jupyter-widgets/controls",
     "model_module_version": "1.5.0",
     "model_name": "DescriptionStyleModel",
     "state": {
      "_model_module": "@jupyter-widgets/controls",
      "_model_module_version": "1.5.0",
      "_model_name": "DescriptionStyleModel",
      "_view_count": null,
      "_view_module": "@jupyter-widgets/base",
      "_view_module_version": "1.2.0",
      "_view_name": "StyleView",
      "description_width": ""
     }
    },
    "8e6afc99a63746969fac7824aec70999": {
     "model_module": "@jupyter-widgets/controls",
     "model_module_version": "1.5.0",
     "model_name": "HTMLModel",
     "state": {
      "_dom_classes": [],
      "_model_module": "@jupyter-widgets/controls",
      "_model_module_version": "1.5.0",
      "_model_name": "HTMLModel",
      "_view_count": null,
      "_view_module": "@jupyter-widgets/controls",
      "_view_module_version": "1.5.0",
      "_view_name": "HTMLView",
      "description": "",
      "description_tooltip": null,
      "layout": "IPY_MODEL_c8fae0bc06ca4354b49d3f6c14ea12e6",
      "placeholder": "​",
      "style": "IPY_MODEL_f1dfcbf05a3e41adb1b14bc3e37ea2eb",
      "value": " 700/700 [00:00&lt;00:00, 39.3kB/s]"
     }
    },
    "946b58a8de174b4c86a940bdf3cb982b": {
     "model_module": "@jupyter-widgets/controls",
     "model_module_version": "1.5.0",
     "model_name": "ProgressStyleModel",
     "state": {
      "_model_module": "@jupyter-widgets/controls",
      "_model_module_version": "1.5.0",
      "_model_name": "ProgressStyleModel",
      "_view_count": null,
      "_view_module": "@jupyter-widgets/base",
      "_view_module_version": "1.2.0",
      "_view_name": "StyleView",
      "bar_color": null,
      "description_width": ""
     }
    },
    "a36109c8aded4ae2a6521cfa4e0ada82": {
     "model_module": "@jupyter-widgets/base",
     "model_module_version": "1.2.0",
     "model_name": "LayoutModel",
     "state": {
      "_model_module": "@jupyter-widgets/base",
      "_model_module_version": "1.2.0",
      "_model_name": "LayoutModel",
      "_view_count": null,
      "_view_module": "@jupyter-widgets/base",
      "_view_module_version": "1.2.0",
      "_view_name": "LayoutView",
      "align_content": null,
      "align_items": null,
      "align_self": null,
      "border": null,
      "bottom": null,
      "display": null,
      "flex": null,
      "flex_flow": null,
      "grid_area": null,
      "grid_auto_columns": null,
      "grid_auto_flow": null,
      "grid_auto_rows": null,
      "grid_column": null,
      "grid_gap": null,
      "grid_row": null,
      "grid_template_areas": null,
      "grid_template_columns": null,
      "grid_template_rows": null,
      "height": null,
      "justify_content": null,
      "justify_items": null,
      "left": null,
      "margin": null,
      "max_height": null,
      "max_width": null,
      "min_height": null,
      "min_width": null,
      "object_fit": null,
      "object_position": null,
      "order": null,
      "overflow": null,
      "overflow_x": null,
      "overflow_y": null,
      "padding": null,
      "right": null,
      "top": null,
      "visibility": null,
      "width": null
     }
    },
    "aba41a880c1b4b2ca9e6d16e3612534a": {
     "model_module": "@jupyter-widgets/controls",
     "model_module_version": "1.5.0",
     "model_name": "HTMLModel",
     "state": {
      "_dom_classes": [],
      "_model_module": "@jupyter-widgets/controls",
      "_model_module_version": "1.5.0",
      "_model_name": "HTMLModel",
      "_view_count": null,
      "_view_module": "@jupyter-widgets/controls",
      "_view_module_version": "1.5.0",
      "_view_name": "HTMLView",
      "description": "",
      "description_tooltip": null,
      "layout": "IPY_MODEL_b2f7e59753394c89a3e9d5acabf57ffa",
      "placeholder": "​",
      "style": "IPY_MODEL_8b562771447a457786a2f0bd402ccacb",
      "value": "Downloading (…)/main/tokenizer.json: 100%"
     }
    },
    "b2f7e59753394c89a3e9d5acabf57ffa": {
     "model_module": "@jupyter-widgets/base",
     "model_module_version": "1.2.0",
     "model_name": "LayoutModel",
     "state": {
      "_model_module": "@jupyter-widgets/base",
      "_model_module_version": "1.2.0",
      "_model_name": "LayoutModel",
      "_view_count": null,
      "_view_module": "@jupyter-widgets/base",
      "_view_module_version": "1.2.0",
      "_view_name": "LayoutView",
      "align_content": null,
      "align_items": null,
      "align_self": null,
      "border": null,
      "bottom": null,
      "display": null,
      "flex": null,
      "flex_flow": null,
      "grid_area": null,
      "grid_auto_columns": null,
      "grid_auto_flow": null,
      "grid_auto_rows": null,
      "grid_column": null,
      "grid_gap": null,
      "grid_row": null,
      "grid_template_areas": null,
      "grid_template_columns": null,
      "grid_template_rows": null,
      "height": null,
      "justify_content": null,
      "justify_items": null,
      "left": null,
      "margin": null,
      "max_height": null,
      "max_width": null,
      "min_height": null,
      "min_width": null,
      "object_fit": null,
      "object_position": null,
      "order": null,
      "overflow": null,
      "overflow_x": null,
      "overflow_y": null,
      "padding": null,
      "right": null,
      "top": null,
      "visibility": null,
      "width": null
     }
    },
    "b305c2d42076478d8e8b73b31dbbc4ad": {
     "model_module": "@jupyter-widgets/controls",
     "model_module_version": "1.5.0",
     "model_name": "FloatProgressModel",
     "state": {
      "_dom_classes": [],
      "_model_module": "@jupyter-widgets/controls",
      "_model_module_version": "1.5.0",
      "_model_name": "FloatProgressModel",
      "_view_count": null,
      "_view_module": "@jupyter-widgets/controls",
      "_view_module_version": "1.5.0",
      "_view_name": "ProgressView",
      "bar_style": "success",
      "description": "",
      "description_tooltip": null,
      "layout": "IPY_MODEL_79ce4a03353545e195a70ff8edc9e1f5",
      "max": 499723,
      "min": 0,
      "orientation": "horizontal",
      "style": "IPY_MODEL_946b58a8de174b4c86a940bdf3cb982b",
      "value": 499723
     }
    },
    "beb2dc6afa7e407db748c6db6a730c0b": {
     "model_module": "@jupyter-widgets/controls",
     "model_module_version": "1.5.0",
     "model_name": "HTMLModel",
     "state": {
      "_dom_classes": [],
      "_model_module": "@jupyter-widgets/controls",
      "_model_module_version": "1.5.0",
      "_model_name": "HTMLModel",
      "_view_count": null,
      "_view_module": "@jupyter-widgets/controls",
      "_view_module_version": "1.5.0",
      "_view_name": "HTMLView",
      "description": "",
      "description_tooltip": null,
      "layout": "IPY_MODEL_a36109c8aded4ae2a6521cfa4e0ada82",
      "placeholder": "​",
      "style": "IPY_MODEL_19a81b968e7e49678fe07933f606b635",
      "value": "Downloading tokenizer.model: 100%"
     }
    },
    "c13fed680fee401e9f6ec45bfe81f204": {
     "model_module": "@jupyter-widgets/controls",
     "model_module_version": "1.5.0",
     "model_name": "HTMLModel",
     "state": {
      "_dom_classes": [],
      "_model_module": "@jupyter-widgets/controls",
      "_model_module_version": "1.5.0",
      "_model_name": "HTMLModel",
      "_view_count": null,
      "_view_module": "@jupyter-widgets/controls",
      "_view_module_version": "1.5.0",
      "_view_name": "HTMLView",
      "description": "",
      "description_tooltip": null,
      "layout": "IPY_MODEL_74b00c804a93449f82a921c8fa7d8897",
      "placeholder": "​",
      "style": "IPY_MODEL_499ca448c8154855a6bbb8db971bb1f7",
      "value": " 1.84M/1.84M [00:00&lt;00:00, 12.8MB/s]"
     }
    },
    "c8fae0bc06ca4354b49d3f6c14ea12e6": {
     "model_module": "@jupyter-widgets/base",
     "model_module_version": "1.2.0",
     "model_name": "LayoutModel",
     "state": {
      "_model_module": "@jupyter-widgets/base",
      "_model_module_version": "1.2.0",
      "_model_name": "LayoutModel",
      "_view_count": null,
      "_view_module": "@jupyter-widgets/base",
      "_view_module_version": "1.2.0",
      "_view_name": "LayoutView",
      "align_content": null,
      "align_items": null,
      "align_self": null,
      "border": null,
      "bottom": null,
      "display": null,
      "flex": null,
      "flex_flow": null,
      "grid_area": null,
      "grid_auto_columns": null,
      "grid_auto_flow": null,
      "grid_auto_rows": null,
      "grid_column": null,
      "grid_gap": null,
      "grid_row": null,
      "grid_template_areas": null,
      "grid_template_columns": null,
      "grid_template_rows": null,
      "height": null,
      "justify_content": null,
      "justify_items": null,
      "left": null,
      "margin": null,
      "max_height": null,
      "max_width": null,
      "min_height": null,
      "min_width": null,
      "object_fit": null,
      "object_position": null,
      "order": null,
      "overflow": null,
      "overflow_x": null,
      "overflow_y": null,
      "padding": null,
      "right": null,
      "top": null,
      "visibility": null,
      "width": null
     }
    },
    "cebaa9ed4110407d83097b4334dc780c": {
     "model_module": "@jupyter-widgets/controls",
     "model_module_version": "1.5.0",
     "model_name": "ProgressStyleModel",
     "state": {
      "_model_module": "@jupyter-widgets/controls",
      "_model_module_version": "1.5.0",
      "_model_name": "ProgressStyleModel",
      "_view_count": null,
      "_view_module": "@jupyter-widgets/base",
      "_view_module_version": "1.2.0",
      "_view_name": "StyleView",
      "bar_color": null,
      "description_width": ""
     }
    },
    "d4d5266fc1554c90b458a64c1d6fc894": {
     "model_module": "@jupyter-widgets/controls",
     "model_module_version": "1.5.0",
     "model_name": "FloatProgressModel",
     "state": {
      "_dom_classes": [],
      "_model_module": "@jupyter-widgets/controls",
      "_model_module_version": "1.5.0",
      "_model_name": "FloatProgressModel",
      "_view_count": null,
      "_view_module": "@jupyter-widgets/controls",
      "_view_module_version": "1.5.0",
      "_view_name": "ProgressView",
      "bar_style": "success",
      "description": "",
      "description_tooltip": null,
      "layout": "IPY_MODEL_838eb66c4fd5492e9ebecfcbc72beea6",
      "max": 1842764,
      "min": 0,
      "orientation": "horizontal",
      "style": "IPY_MODEL_13114dc7b8d444fe9e63005b7d77c333",
      "value": 1842764
     }
    },
    "d5adc43186844049b8959255c358e9d8": {
     "model_module": "@jupyter-widgets/controls",
     "model_module_version": "1.5.0",
     "model_name": "FloatProgressModel",
     "state": {
      "_dom_classes": [],
      "_model_module": "@jupyter-widgets/controls",
      "_model_module_version": "1.5.0",
      "_model_name": "FloatProgressModel",
      "_view_count": null,
      "_view_module": "@jupyter-widgets/controls",
      "_view_module_version": "1.5.0",
      "_view_name": "ProgressView",
      "bar_style": "success",
      "description": "",
      "description_tooltip": null,
      "layout": "IPY_MODEL_70e68a6de0034b58b44cc05b3e3df2a7",
      "max": 700,
      "min": 0,
      "orientation": "horizontal",
      "style": "IPY_MODEL_34eb80b24eae48e8ace4c35ed69017d1",
      "value": 700
     }
    },
    "dc41d925060d49fab03d66a8b5b2b59a": {
     "model_module": "@jupyter-widgets/base",
     "model_module_version": "1.2.0",
     "model_name": "LayoutModel",
     "state": {
      "_model_module": "@jupyter-widgets/base",
      "_model_module_version": "1.2.0",
      "_model_name": "LayoutModel",
      "_view_count": null,
      "_view_module": "@jupyter-widgets/base",
      "_view_module_version": "1.2.0",
      "_view_name": "LayoutView",
      "align_content": null,
      "align_items": null,
      "align_self": null,
      "border": null,
      "bottom": null,
      "display": null,
      "flex": null,
      "flex_flow": null,
      "grid_area": null,
      "grid_auto_columns": null,
      "grid_auto_flow": null,
      "grid_auto_rows": null,
      "grid_column": null,
      "grid_gap": null,
      "grid_row": null,
      "grid_template_areas": null,
      "grid_template_columns": null,
      "grid_template_rows": null,
      "height": null,
      "justify_content": null,
      "justify_items": null,
      "left": null,
      "margin": null,
      "max_height": null,
      "max_width": null,
      "min_height": null,
      "min_width": null,
      "object_fit": null,
      "object_position": null,
      "order": null,
      "overflow": null,
      "overflow_x": null,
      "overflow_y": null,
      "padding": null,
      "right": null,
      "top": null,
      "visibility": null,
      "width": null
     }
    },
    "dd72594dc97e471dace5516fd211f9de": {
     "model_module": "@jupyter-widgets/base",
     "model_module_version": "1.2.0",
     "model_name": "LayoutModel",
     "state": {
      "_model_module": "@jupyter-widgets/base",
      "_model_module_version": "1.2.0",
      "_model_name": "LayoutModel",
      "_view_count": null,
      "_view_module": "@jupyter-widgets/base",
      "_view_module_version": "1.2.0",
      "_view_name": "LayoutView",
      "align_content": null,
      "align_items": null,
      "align_self": null,
      "border": null,
      "bottom": null,
      "display": null,
      "flex": null,
      "flex_flow": null,
      "grid_area": null,
      "grid_auto_columns": null,
      "grid_auto_flow": null,
      "grid_auto_rows": null,
      "grid_column": null,
      "grid_gap": null,
      "grid_row": null,
      "grid_template_areas": null,
      "grid_template_columns": null,
      "grid_template_rows": null,
      "height": null,
      "justify_content": null,
      "justify_items": null,
      "left": null,
      "margin": null,
      "max_height": null,
      "max_width": null,
      "min_height": null,
      "min_width": null,
      "object_fit": null,
      "object_position": null,
      "order": null,
      "overflow": null,
      "overflow_x": null,
      "overflow_y": null,
      "padding": null,
      "right": null,
      "top": null,
      "visibility": null,
      "width": null
     }
    },
    "efeaf8705b354fc891caf1c8c3361f86": {
     "model_module": "@jupyter-widgets/base",
     "model_module_version": "1.2.0",
     "model_name": "LayoutModel",
     "state": {
      "_model_module": "@jupyter-widgets/base",
      "_model_module_version": "1.2.0",
      "_model_name": "LayoutModel",
      "_view_count": null,
      "_view_module": "@jupyter-widgets/base",
      "_view_module_version": "1.2.0",
      "_view_name": "LayoutView",
      "align_content": null,
      "align_items": null,
      "align_self": null,
      "border": null,
      "bottom": null,
      "display": null,
      "flex": null,
      "flex_flow": null,
      "grid_area": null,
      "grid_auto_columns": null,
      "grid_auto_flow": null,
      "grid_auto_rows": null,
      "grid_column": null,
      "grid_gap": null,
      "grid_row": null,
      "grid_template_areas": null,
      "grid_template_columns": null,
      "grid_template_rows": null,
      "height": null,
      "justify_content": null,
      "justify_items": null,
      "left": null,
      "margin": null,
      "max_height": null,
      "max_width": null,
      "min_height": null,
      "min_width": null,
      "object_fit": null,
      "object_position": null,
      "order": null,
      "overflow": null,
      "overflow_x": null,
      "overflow_y": null,
      "padding": null,
      "right": null,
      "top": null,
      "visibility": null,
      "width": null
     }
    },
    "f1dfcbf05a3e41adb1b14bc3e37ea2eb": {
     "model_module": "@jupyter-widgets/controls",
     "model_module_version": "1.5.0",
     "model_name": "DescriptionStyleModel",
     "state": {
      "_model_module": "@jupyter-widgets/controls",
      "_model_module_version": "1.5.0",
      "_model_name": "DescriptionStyleModel",
      "_view_count": null,
      "_view_module": "@jupyter-widgets/base",
      "_view_module_version": "1.2.0",
      "_view_name": "StyleView",
      "description_width": ""
     }
    }
   }
  }
 },
 "nbformat": 4,
 "nbformat_minor": 1
}
