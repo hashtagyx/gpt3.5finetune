{
 "cells": [
  {
   "cell_type": "markdown",
   "id": "76b0b065",
   "metadata": {},
   "source": [
    "### Importing dependencies and defining API key"
   ]
  },
  {
   "cell_type": "code",
   "execution_count": 58,
   "id": "cbb2eb69",
   "metadata": {},
   "outputs": [],
   "source": [
    "import openai\n",
    "import os\n",
    "import json\n",
    "import pandas as pd\n",
    "import numpy as np\n",
    "\n",
    "openai.api_key = os.environ['OPENAI_API_KEY']"
   ]
  },
  {
   "cell_type": "markdown",
   "id": "9dd55cc7",
   "metadata": {},
   "source": [
    "### Import finetuned model ID\n",
    "Extracting the finetuned model ID from the file stored in the `finetuning` directory so that we generate results with the finetuned model."
   ]
  },
  {
   "cell_type": "code",
   "execution_count": 64,
   "id": "f97ec538",
   "metadata": {},
   "outputs": [
    {
     "name": "stdout",
     "output_type": "stream",
     "text": [
      "ft:gpt-3.5-turbo-0613:personal:2023-09-14:8036p70H\n"
     ]
    }
   ],
   "source": [
    "# open the file and job ids (if saved)\n",
    "file_and_job_ids_filename = \"finetuning/file_and_job_ids-2023-09-19\"\n",
    "with open(file_and_job_ids_filename) as f:\n",
    "    file_and_job_ids_dict = json.load(f)\n",
    "\n",
    "# training_file_id = file_and_job_ids_dict['training_file_id']\n",
    "# validation_file_id = file_and_job_ids_dict['validation_file_id']\n",
    "fine_tuned_model_id = file_and_job_ids_dict['fine_tuned_model_id']\n",
    "# job_id = file_and_job_ids_dict['job_id']\n",
    "\n",
    "print(fine_tuned_model_id)"
   ]
  },
  {
   "cell_type": "markdown",
   "id": "6cc06f7a",
   "metadata": {},
   "source": [
    "### Reading validation dataset and splitting into question and answer sets\n",
    "We are only sampling every 10 entries in the validation dataset to compare model output."
   ]
  },
  {
   "cell_type": "code",
   "execution_count": 65,
   "id": "8efe73ed",
   "metadata": {},
   "outputs": [
    {
     "name": "stdout",
     "output_type": "stream",
     "text": [
      "[[{'role': 'system', 'content': \"You are an assistant who answers queries regarding DSTA Horizons, which serves as a repository for Singapore's Defence Science & Technology Agency's diverse expertise and knowledge in various fields of technology.\"}, {'role': 'user', 'content': 'Who is the editor of DSTA Horizons?'}], [{'role': 'system', 'content': \"You are an assistant who answers queries regarding DSTA Horizons, which serves as a repository for Singapore's Defence Science & Technology Agency's diverse expertise and knowledge in various fields of technology.\"}, {'role': 'user', 'content': 'What is the significance of the ransomware attack on the Colonial Pipeline in 2021?'}], [{'role': 'system', 'content': \"You are an assistant who answers queries regarding DSTA Horizons, which serves as a repository for Singapore's Defence Science & Technology Agency's diverse expertise and knowledge in various fields of technology.\"}, {'role': 'user', 'content': 'What is the purpose of water sensors in the battery module?'}], [{'role': 'system', 'content': \"You are an assistant who answers queries regarding DSTA Horizons, which serves as a repository for Singapore's Defence Science & Technology Agency's diverse expertise and knowledge in various fields of technology.\"}, {'role': 'user', 'content': 'What are some potential future applications of MAE3D?'}], [{'role': 'system', 'content': \"You are an assistant who answers queries regarding DSTA Horizons, which serves as a repository for Singapore's Defence Science & Technology Agency's diverse expertise and knowledge in various fields of technology.\"}, {'role': 'user', 'content': 'What are the recommended months for implementing noise mitigation guidelines based on prevailing winds?'}], [{'role': 'system', 'content': \"You are an assistant who answers queries regarding DSTA Horizons, which serves as a repository for Singapore's Defence Science & Technology Agency's diverse expertise and knowledge in various fields of technology.\"}, {'role': 'user', 'content': 'Where were the febrile data collection trials conducted?'}]] [{'role': 'assistant', 'content': 'Koh Tuan Yew'}, {'role': 'assistant', 'content': 'The ransomware attack on the Colonial Pipeline demonstrated how valuable and vulnerable critical infrastructure systems are. It forced the gas pipelines running from Texas to New York to be shut down, resulting in fuel shortages at airports and gas stations.'}, {'role': 'assistant', 'content': 'Water sensors placed in the battery module help to detect the presence of water ingress. They generate an alarm to alert users when water is detected.'}, {'role': 'assistant', 'content': 'Potential future applications of MAE3D include implementation onto Command and Control (C2) systems for ground commanders to assess fragmentation effects, and crowd control during on-site war relic disposal.'}, {'role': 'assistant', 'content': 'The recommended months for implementing noise mitigation guidelines based on prevailing winds are December to March.'}, {'role': 'assistant', 'content': 'The febrile data collection trials were conducted in medical facilities, including hospitals and private clinics.'}]\n",
      "6\n"
     ]
    }
   ],
   "source": [
    "file_name = \"qapairs-2023-09-14.jsonl\"\n",
    "validation_file_name = f\"finetuning/{file_name}-validation.jsonl\"\n",
    "with open(validation_file_name, \"rb\") as f:\n",
    "    json_dataset = [json.loads(line) for line in f]\n",
    "    \n",
    "questions = []\n",
    "answers = []\n",
    "# sampling every 10 entries in validation dataset\n",
    "for i in range(0, len(json_dataset), 10):\n",
    "    entry = json_dataset[i]\n",
    "    # Each entry is a list consisting of three dictionaries/json objects. e.g.\n",
    "#     [\n",
    "#         {\n",
    "#             'role': 'system',\n",
    "#             'content': <SYSTEM MESSAGE>\n",
    "#         },\n",
    "#         {\n",
    "#             'role': 'user',\n",
    "#             'content': <USER MESSAGE/QUESTION ASKED TO LLM>\n",
    "#         },\n",
    "#         {\n",
    "#             'role': 'assistant',\n",
    "#             'content': <ASSISTANT MESSAGE/EXPECTED ANSWER FROM LLM>\n",
    "#         }\n",
    "#     ]\n",
    "    question = entry['messages'][:-1]\n",
    "    answer = entry['messages'][-1]\n",
    "    questions.append(question)\n",
    "    answers.append(answer)\n",
    "\n",
    "print(questions, answers)\n",
    "\n",
    "print(len(questions))\n",
    "\n",
    "answers = [assistant_role_and_content['content'] for assistant_role_and_content in answers]"
   ]
  },
  {
   "cell_type": "markdown",
   "id": "e480172a",
   "metadata": {},
   "source": [
    "### Displaying answers list"
   ]
  },
  {
   "cell_type": "code",
   "execution_count": 67,
   "id": "bb272c82",
   "metadata": {},
   "outputs": [
    {
     "name": "stdout",
     "output_type": "stream",
     "text": [
      "['Koh Tuan Yew', 'The ransomware attack on the Colonial Pipeline demonstrated how valuable and vulnerable critical infrastructure systems are. It forced the gas pipelines running from Texas to New York to be shut down, resulting in fuel shortages at airports and gas stations.', 'Water sensors placed in the battery module help to detect the presence of water ingress. They generate an alarm to alert users when water is detected.', 'Potential future applications of MAE3D include implementation onto Command and Control (C2) systems for ground commanders to assess fragmentation effects, and crowd control during on-site war relic disposal.', 'The recommended months for implementing noise mitigation guidelines based on prevailing winds are December to March.', 'The febrile data collection trials were conducted in medical facilities, including hospitals and private clinics.']\n",
      "6\n"
     ]
    }
   ],
   "source": [
    "print(answers)\n",
    "print(len(answers))"
   ]
  },
  {
   "cell_type": "markdown",
   "id": "d2465c22",
   "metadata": {},
   "source": [
    "### Inference using finetuned model"
   ]
  },
  {
   "cell_type": "code",
   "execution_count": 68,
   "id": "f9f0a2c8",
   "metadata": {},
   "outputs": [],
   "source": [
    "finetuned_answers = []\n",
    "for question in questions:\n",
    "    finetuned_response = openai.ChatCompletion.create(\n",
    "        model=fine_tuned_model_id, messages=question, temperature=0, max_tokens=500\n",
    "    )\n",
    "    finetuned_answers.append(finetuned_response[\"choices\"][0][\"message\"][\"content\"])"
   ]
  },
  {
   "cell_type": "markdown",
   "id": "1cdccd1a",
   "metadata": {},
   "source": [
    "### Inference using regular GPT 3.5"
   ]
  },
  {
   "cell_type": "code",
   "execution_count": 69,
   "id": "465665d4",
   "metadata": {},
   "outputs": [],
   "source": [
    "regular_answers = []\n",
    "for question in questions:\n",
    "    regular_response = openai.ChatCompletion.create(\n",
    "        model='gpt-3.5-turbo', messages=question, temperature=0, max_tokens=500\n",
    "    )\n",
    "    regular_answers.append(regular_response[\"choices\"][0][\"message\"][\"content\"])"
   ]
  },
  {
   "cell_type": "markdown",
   "id": "145d7f90",
   "metadata": {},
   "source": [
    "### Displaying generated answers"
   ]
  },
  {
   "cell_type": "code",
   "execution_count": 70,
   "id": "963c6a49",
   "metadata": {},
   "outputs": [
    {
     "name": "stdout",
     "output_type": "stream",
     "text": [
      "['Chua Sher Lin', 'The ransomware attack on the Colonial Pipeline in 2021 resulted in the shutdown of the pipeline for several days, leading to fuel shortages and panic buying in the affected regions.', 'Water sensors are used to detect the presence of water in the battery module, which can lead to a short circuit and compromise the safety of the system.', 'Some potential future applications of MAE3D include assessing the effects of buried munitions, incorporating atmospheric data to assess the effects of wind on fragmentation, and assessing the effects of underwater detonations.', 'The recommended months for implementing noise mitigation guidelines based on prevailing winds are December to March.', 'The febrile data collection trials were conducted in Singapore.']\n"
     ]
    },
    {
     "data": {
      "text/plain": [
       "6"
      ]
     },
     "execution_count": 70,
     "metadata": {},
     "output_type": "execute_result"
    }
   ],
   "source": [
    "print(finetuned_answers)\n",
    "len(finetuned_answers)"
   ]
  },
  {
   "cell_type": "code",
   "execution_count": 71,
   "id": "3e35a631",
   "metadata": {},
   "outputs": [
    {
     "name": "stdout",
     "output_type": "stream",
     "text": [
      "[\"As an AI language model, I don't have access to real-time information or the ability to browse the internet. Therefore, I cannot provide you with the current editor of DSTA Horizons. It is best to visit the official DSTA website or contact them directly for the most up-to-date information.\", 'The ransomware attack on the Colonial Pipeline in 2021 was significant for several reasons:\\n\\n1. Disruption of critical infrastructure: The Colonial Pipeline is one of the largest fuel pipelines in the United States, supplying nearly half of the fuel consumed on the East Coast. The attack caused a temporary shutdown of the pipeline, leading to fuel shortages and price increases in several states. This highlighted the vulnerability of critical infrastructure to cyberattacks and the potential impact on daily life.\\n\\n2. Economic impact: The shutdown of the pipeline disrupted fuel supplies, leading to increased prices and panic buying. It also affected industries reliant on fuel, such as transportation and aviation. The incident highlighted the economic consequences of cyberattacks on critical infrastructure and the need for robust cybersecurity measures.\\n\\n3. National security concerns: The attack raised concerns about the potential for cyberattacks to impact national security. The Colonial Pipeline supplies fuel to military bases and airports, and any disruption could have had serious implications for defense operations. It underscored the need for enhanced cybersecurity measures to protect critical infrastructure and national security interests.\\n\\n4. Attribution and response: The attack was attributed to a criminal group called DarkSide, believed to be based in Eastern Europe. The incident prompted discussions on the need for international cooperation to combat cybercrime and hold perpetrators accountable. It also highlighted the importance of a coordinated response from government agencies, private sector entities, and cybersecurity experts to mitigate the impact of such attacks.\\n\\nOverall, the Colonial Pipeline ransomware attack served as a wake-up call for governments, organizations, and individuals to prioritize cybersecurity and take proactive measures to protect critical infrastructure from cyber threats.', 'The purpose of water sensors in a battery module is to detect the presence of water or any other liquid within the module. These sensors are typically used in applications where water or liquid ingress can be detrimental to the performance or safety of the battery.\\n\\nWater sensors help in early detection of water ingress, which can be caused by leaks or other external factors. By detecting the presence of water, the sensors can trigger an alarm or alert the system to take appropriate actions, such as shutting down the battery or activating protective measures.\\n\\nIn battery modules, water or liquid ingress can lead to short circuits, corrosion, or other damage to the battery cells, which can result in reduced performance, decreased lifespan, or even safety hazards. Therefore, water sensors play a crucial role in ensuring the reliability, safety, and longevity of battery systems.', 'MAE3D, or Multi-Agent Environment for 3D, is a simulation platform developed by DSTA Horizons. It has several potential future applications, including:\\n\\n1. Urban Planning and Design: MAE3D can be used to simulate and analyze urban environments, helping urban planners and architects to design more efficient and sustainable cities. It can simulate factors like traffic flow, energy consumption, and environmental impact to optimize urban planning decisions.\\n\\n2. Disaster Management: MAE3D can simulate various disaster scenarios, such as earthquakes, floods, or fires, to help emergency responders and disaster management agencies in planning and preparedness. It can assist in understanding the impact of disasters on infrastructure, evacuation routes, and resource allocation.\\n\\n3. Transportation and Traffic Management: MAE3D can simulate traffic patterns and optimize transportation systems. It can help in designing efficient traffic management strategies, analyzing the impact of new infrastructure projects, and testing autonomous vehicle algorithms.\\n\\n4. Crowd Management and Safety: MAE3D can simulate crowd behavior in different scenarios, such as concerts, sports events, or public gatherings. It can assist in optimizing crowd management strategies, identifying potential safety risks, and planning for emergency evacuations.\\n\\n5. Defense and Security: MAE3D can be used for military training and simulation, allowing defense forces to train in realistic virtual environments. It can simulate complex battlefield scenarios, test military strategies, and evaluate the effectiveness of different equipment and technologies.\\n\\n6. Environmental Impact Assessment: MAE3D can simulate the environmental impact of various projects, such as construction, mining, or energy production. It can help in assessing the potential consequences on ecosystems, air quality, and noise pollution, aiding in making informed decisions and mitigating negative impacts.\\n\\nThese are just a few potential applications of MAE3D, and its versatility allows for its use in various other fields where simulation and analysis of complex systems are required.', 'The recommended months for implementing noise mitigation guidelines based on prevailing winds can vary depending on the specific location and context. It is important to consult with local authorities or experts who have knowledge of the area in question to obtain accurate and up-to-date information.\\n\\nIn general, noise mitigation measures can be implemented throughout the year, but certain months may be more suitable based on prevailing wind patterns. Prevailing winds can affect the dispersion and propagation of noise, so understanding wind patterns can help in determining the most effective mitigation strategies.\\n\\nFor example, if an area experiences strong prevailing winds from a particular direction during certain months, it may be beneficial to focus on implementing noise barriers or other mitigation measures on the side of the noise source facing that direction during those months.\\n\\nTo obtain specific recommendations for a particular location, it is advisable to consult with local authorities, environmental agencies, or acoustic experts who can provide detailed information based on the prevailing wind patterns in that area.', 'The febrile data collection trials conducted by DSTA Horizons were conducted in Singapore.']\n"
     ]
    },
    {
     "data": {
      "text/plain": [
       "6"
      ]
     },
     "execution_count": 71,
     "metadata": {},
     "output_type": "execute_result"
    }
   ],
   "source": [
    "print(regular_answers)\n",
    "len(regular_answers)"
   ]
  },
  {
   "cell_type": "markdown",
   "id": "34be7f44",
   "metadata": {},
   "source": [
    "### Store and print in a DataFrame"
   ]
  },
  {
   "cell_type": "code",
   "execution_count": 72,
   "id": "f067c7fc",
   "metadata": {},
   "outputs": [],
   "source": [
    "df_questions = [user_role_and_content['content'] for _, user_role_and_content in questions]\n",
    "df = pd.DataFrame(list(zip(df_questions, answers, finetuned_answers, regular_answers)),\n",
    "               columns =['Question', 'Actual answers', 'Finetuned model answers', 'Regular model answers'])\n",
    "df.index = np.arange(1, len(df) + 1)\n",
    "pd.set_option('display.max_colwidth', None)"
   ]
  },
  {
   "cell_type": "code",
   "execution_count": 73,
   "id": "7fb89cb6",
   "metadata": {},
   "outputs": [
    {
     "data": {
      "text/html": [
       "<div>\n",
       "<style scoped>\n",
       "    .dataframe tbody tr th:only-of-type {\n",
       "        vertical-align: middle;\n",
       "    }\n",
       "\n",
       "    .dataframe tbody tr th {\n",
       "        vertical-align: top;\n",
       "    }\n",
       "\n",
       "    .dataframe thead th {\n",
       "        text-align: right;\n",
       "    }\n",
       "</style>\n",
       "<table border=\"1\" class=\"dataframe\">\n",
       "  <thead>\n",
       "    <tr style=\"text-align: right;\">\n",
       "      <th></th>\n",
       "      <th>Question</th>\n",
       "      <th>Actual answers</th>\n",
       "      <th>Finetuned model answers</th>\n",
       "      <th>Regular model answers</th>\n",
       "    </tr>\n",
       "  </thead>\n",
       "  <tbody>\n",
       "    <tr>\n",
       "      <th>1</th>\n",
       "      <td>Who is the editor of DSTA Horizons?</td>\n",
       "      <td>Koh Tuan Yew</td>\n",
       "      <td>Chua Sher Lin</td>\n",
       "      <td>As an AI language model, I don't have access to real-time information or the ability to browse the internet. Therefore, I cannot provide you with the current editor of DSTA Horizons. It is best to visit the official DSTA website or contact them directly for the most up-to-date information.</td>\n",
       "    </tr>\n",
       "    <tr>\n",
       "      <th>2</th>\n",
       "      <td>What is the significance of the ransomware attack on the Colonial Pipeline in 2021?</td>\n",
       "      <td>The ransomware attack on the Colonial Pipeline demonstrated how valuable and vulnerable critical infrastructure systems are. It forced the gas pipelines running from Texas to New York to be shut down, resulting in fuel shortages at airports and gas stations.</td>\n",
       "      <td>The ransomware attack on the Colonial Pipeline in 2021 resulted in the shutdown of the pipeline for several days, leading to fuel shortages and panic buying in the affected regions.</td>\n",
       "      <td>The ransomware attack on the Colonial Pipeline in 2021 was significant for several reasons:\\n\\n1. Disruption of critical infrastructure: The Colonial Pipeline is one of the largest fuel pipelines in the United States, supplying nearly half of the fuel consumed on the East Coast. The attack caused a temporary shutdown of the pipeline, leading to fuel shortages and price increases in several states. This highlighted the vulnerability of critical infrastructure to cyberattacks and the potential impact on daily life.\\n\\n2. Economic impact: The shutdown of the pipeline disrupted fuel supplies, leading to increased prices and panic buying. It also affected industries reliant on fuel, such as transportation and aviation. The incident highlighted the economic consequences of cyberattacks on critical infrastructure and the need for robust cybersecurity measures.\\n\\n3. National security concerns: The attack raised concerns about the potential for cyberattacks to impact national security. The Colonial Pipeline supplies fuel to military bases and airports, and any disruption could have had serious implications for defense operations. It underscored the need for enhanced cybersecurity measures to protect critical infrastructure and national security interests.\\n\\n4. Attribution and response: The attack was attributed to a criminal group called DarkSide, believed to be based in Eastern Europe. The incident prompted discussions on the need for international cooperation to combat cybercrime and hold perpetrators accountable. It also highlighted the importance of a coordinated response from government agencies, private sector entities, and cybersecurity experts to mitigate the impact of such attacks.\\n\\nOverall, the Colonial Pipeline ransomware attack served as a wake-up call for governments, organizations, and individuals to prioritize cybersecurity and take proactive measures to protect critical infrastructure from cyber threats.</td>\n",
       "    </tr>\n",
       "    <tr>\n",
       "      <th>3</th>\n",
       "      <td>What is the purpose of water sensors in the battery module?</td>\n",
       "      <td>Water sensors placed in the battery module help to detect the presence of water ingress. They generate an alarm to alert users when water is detected.</td>\n",
       "      <td>Water sensors are used to detect the presence of water in the battery module, which can lead to a short circuit and compromise the safety of the system.</td>\n",
       "      <td>The purpose of water sensors in a battery module is to detect the presence of water or any other liquid within the module. These sensors are typically used in applications where water or liquid ingress can be detrimental to the performance or safety of the battery.\\n\\nWater sensors help in early detection of water ingress, which can be caused by leaks or other external factors. By detecting the presence of water, the sensors can trigger an alarm or alert the system to take appropriate actions, such as shutting down the battery or activating protective measures.\\n\\nIn battery modules, water or liquid ingress can lead to short circuits, corrosion, or other damage to the battery cells, which can result in reduced performance, decreased lifespan, or even safety hazards. Therefore, water sensors play a crucial role in ensuring the reliability, safety, and longevity of battery systems.</td>\n",
       "    </tr>\n",
       "    <tr>\n",
       "      <th>4</th>\n",
       "      <td>What are some potential future applications of MAE3D?</td>\n",
       "      <td>Potential future applications of MAE3D include implementation onto Command and Control (C2) systems for ground commanders to assess fragmentation effects, and crowd control during on-site war relic disposal.</td>\n",
       "      <td>Some potential future applications of MAE3D include assessing the effects of buried munitions, incorporating atmospheric data to assess the effects of wind on fragmentation, and assessing the effects of underwater detonations.</td>\n",
       "      <td>MAE3D, or Multi-Agent Environment for 3D, is a simulation platform developed by DSTA Horizons. It has several potential future applications, including:\\n\\n1. Urban Planning and Design: MAE3D can be used to simulate and analyze urban environments, helping urban planners and architects to design more efficient and sustainable cities. It can simulate factors like traffic flow, energy consumption, and environmental impact to optimize urban planning decisions.\\n\\n2. Disaster Management: MAE3D can simulate various disaster scenarios, such as earthquakes, floods, or fires, to help emergency responders and disaster management agencies in planning and preparedness. It can assist in understanding the impact of disasters on infrastructure, evacuation routes, and resource allocation.\\n\\n3. Transportation and Traffic Management: MAE3D can simulate traffic patterns and optimize transportation systems. It can help in designing efficient traffic management strategies, analyzing the impact of new infrastructure projects, and testing autonomous vehicle algorithms.\\n\\n4. Crowd Management and Safety: MAE3D can simulate crowd behavior in different scenarios, such as concerts, sports events, or public gatherings. It can assist in optimizing crowd management strategies, identifying potential safety risks, and planning for emergency evacuations.\\n\\n5. Defense and Security: MAE3D can be used for military training and simulation, allowing defense forces to train in realistic virtual environments. It can simulate complex battlefield scenarios, test military strategies, and evaluate the effectiveness of different equipment and technologies.\\n\\n6. Environmental Impact Assessment: MAE3D can simulate the environmental impact of various projects, such as construction, mining, or energy production. It can help in assessing the potential consequences on ecosystems, air quality, and noise pollution, aiding in making informed decisions and mitigating negative impacts.\\n\\nThese are just a few potential applications of MAE3D, and its versatility allows for its use in various other fields where simulation and analysis of complex systems are required.</td>\n",
       "    </tr>\n",
       "    <tr>\n",
       "      <th>5</th>\n",
       "      <td>What are the recommended months for implementing noise mitigation guidelines based on prevailing winds?</td>\n",
       "      <td>The recommended months for implementing noise mitigation guidelines based on prevailing winds are December to March.</td>\n",
       "      <td>The recommended months for implementing noise mitigation guidelines based on prevailing winds are December to March.</td>\n",
       "      <td>The recommended months for implementing noise mitigation guidelines based on prevailing winds can vary depending on the specific location and context. It is important to consult with local authorities or experts who have knowledge of the area in question to obtain accurate and up-to-date information.\\n\\nIn general, noise mitigation measures can be implemented throughout the year, but certain months may be more suitable based on prevailing wind patterns. Prevailing winds can affect the dispersion and propagation of noise, so understanding wind patterns can help in determining the most effective mitigation strategies.\\n\\nFor example, if an area experiences strong prevailing winds from a particular direction during certain months, it may be beneficial to focus on implementing noise barriers or other mitigation measures on the side of the noise source facing that direction during those months.\\n\\nTo obtain specific recommendations for a particular location, it is advisable to consult with local authorities, environmental agencies, or acoustic experts who can provide detailed information based on the prevailing wind patterns in that area.</td>\n",
       "    </tr>\n",
       "    <tr>\n",
       "      <th>6</th>\n",
       "      <td>Where were the febrile data collection trials conducted?</td>\n",
       "      <td>The febrile data collection trials were conducted in medical facilities, including hospitals and private clinics.</td>\n",
       "      <td>The febrile data collection trials were conducted in Singapore.</td>\n",
       "      <td>The febrile data collection trials conducted by DSTA Horizons were conducted in Singapore.</td>\n",
       "    </tr>\n",
       "  </tbody>\n",
       "</table>\n",
       "</div>"
      ],
      "text/plain": [
       "                                                                                                  Question  \\\n",
       "1                                                                      Who is the editor of DSTA Horizons?   \n",
       "2                      What is the significance of the ransomware attack on the Colonial Pipeline in 2021?   \n",
       "3                                              What is the purpose of water sensors in the battery module?   \n",
       "4                                                    What are some potential future applications of MAE3D?   \n",
       "5  What are the recommended months for implementing noise mitigation guidelines based on prevailing winds?   \n",
       "6                                                 Where were the febrile data collection trials conducted?   \n",
       "\n",
       "                                                                                                                                                                                                                                                       Actual answers  \\\n",
       "1                                                                                                                                                                                                                                                        Koh Tuan Yew   \n",
       "2  The ransomware attack on the Colonial Pipeline demonstrated how valuable and vulnerable critical infrastructure systems are. It forced the gas pipelines running from Texas to New York to be shut down, resulting in fuel shortages at airports and gas stations.   \n",
       "3                                                                                                              Water sensors placed in the battery module help to detect the presence of water ingress. They generate an alarm to alert users when water is detected.   \n",
       "4                                                     Potential future applications of MAE3D include implementation onto Command and Control (C2) systems for ground commanders to assess fragmentation effects, and crowd control during on-site war relic disposal.   \n",
       "5                                                                                                                                                The recommended months for implementing noise mitigation guidelines based on prevailing winds are December to March.   \n",
       "6                                                                                                                                                   The febrile data collection trials were conducted in medical facilities, including hospitals and private clinics.   \n",
       "\n",
       "                                                                                                                                                                                                              Finetuned model answers  \\\n",
       "1                                                                                                                                                                                                                       Chua Sher Lin   \n",
       "2                                               The ransomware attack on the Colonial Pipeline in 2021 resulted in the shutdown of the pipeline for several days, leading to fuel shortages and panic buying in the affected regions.   \n",
       "3                                                                            Water sensors are used to detect the presence of water in the battery module, which can lead to a short circuit and compromise the safety of the system.   \n",
       "4  Some potential future applications of MAE3D include assessing the effects of buried munitions, incorporating atmospheric data to assess the effects of wind on fragmentation, and assessing the effects of underwater detonations.   \n",
       "5                                                                                                                The recommended months for implementing noise mitigation guidelines based on prevailing winds are December to March.   \n",
       "6                                                                                                                                                                     The febrile data collection trials were conducted in Singapore.   \n",
       "\n",
       "                                                                                                                                                                                                                                                                                                                                                                                                                                                                                                                                                                                                                                                                                                                                                                                                                                                                                                                                                                                                                                                                                                                                                                                                                                                                                                                                                                                                                                                                                                                                                                                                                                                                                                                                                                                                                                                                                                                                                                                                                                                                                                                                                                                                                   Regular model answers  \n",
       "1                                                                                                                                                                                                                                                                                                                                                                                                                                                                                                                                                                                                                                                                                                                                                                                                                                                                                                                                                                                                                                                                                                                                                                                                                                                                                                                                                                                                                                                                                                                                                                                                                                                                                                                                                                                                                                                                                                                                     As an AI language model, I don't have access to real-time information or the ability to browse the internet. Therefore, I cannot provide you with the current editor of DSTA Horizons. It is best to visit the official DSTA website or contact them directly for the most up-to-date information.  \n",
       "2                                                                                                                                                                                                           The ransomware attack on the Colonial Pipeline in 2021 was significant for several reasons:\\n\\n1. Disruption of critical infrastructure: The Colonial Pipeline is one of the largest fuel pipelines in the United States, supplying nearly half of the fuel consumed on the East Coast. The attack caused a temporary shutdown of the pipeline, leading to fuel shortages and price increases in several states. This highlighted the vulnerability of critical infrastructure to cyberattacks and the potential impact on daily life.\\n\\n2. Economic impact: The shutdown of the pipeline disrupted fuel supplies, leading to increased prices and panic buying. It also affected industries reliant on fuel, such as transportation and aviation. The incident highlighted the economic consequences of cyberattacks on critical infrastructure and the need for robust cybersecurity measures.\\n\\n3. National security concerns: The attack raised concerns about the potential for cyberattacks to impact national security. The Colonial Pipeline supplies fuel to military bases and airports, and any disruption could have had serious implications for defense operations. It underscored the need for enhanced cybersecurity measures to protect critical infrastructure and national security interests.\\n\\n4. Attribution and response: The attack was attributed to a criminal group called DarkSide, believed to be based in Eastern Europe. The incident prompted discussions on the need for international cooperation to combat cybercrime and hold perpetrators accountable. It also highlighted the importance of a coordinated response from government agencies, private sector entities, and cybersecurity experts to mitigate the impact of such attacks.\\n\\nOverall, the Colonial Pipeline ransomware attack served as a wake-up call for governments, organizations, and individuals to prioritize cybersecurity and take proactive measures to protect critical infrastructure from cyber threats.  \n",
       "3                                                                                                                                                                                                                                                                                                                                                                                                                                                                                                                                                                                                                                                                                                                                                                                                                                                                                                                                                                                                                                                                                                                                                                                                                                                                                                           The purpose of water sensors in a battery module is to detect the presence of water or any other liquid within the module. These sensors are typically used in applications where water or liquid ingress can be detrimental to the performance or safety of the battery.\\n\\nWater sensors help in early detection of water ingress, which can be caused by leaks or other external factors. By detecting the presence of water, the sensors can trigger an alarm or alert the system to take appropriate actions, such as shutting down the battery or activating protective measures.\\n\\nIn battery modules, water or liquid ingress can lead to short circuits, corrosion, or other damage to the battery cells, which can result in reduced performance, decreased lifespan, or even safety hazards. Therefore, water sensors play a crucial role in ensuring the reliability, safety, and longevity of battery systems.  \n",
       "4  MAE3D, or Multi-Agent Environment for 3D, is a simulation platform developed by DSTA Horizons. It has several potential future applications, including:\\n\\n1. Urban Planning and Design: MAE3D can be used to simulate and analyze urban environments, helping urban planners and architects to design more efficient and sustainable cities. It can simulate factors like traffic flow, energy consumption, and environmental impact to optimize urban planning decisions.\\n\\n2. Disaster Management: MAE3D can simulate various disaster scenarios, such as earthquakes, floods, or fires, to help emergency responders and disaster management agencies in planning and preparedness. It can assist in understanding the impact of disasters on infrastructure, evacuation routes, and resource allocation.\\n\\n3. Transportation and Traffic Management: MAE3D can simulate traffic patterns and optimize transportation systems. It can help in designing efficient traffic management strategies, analyzing the impact of new infrastructure projects, and testing autonomous vehicle algorithms.\\n\\n4. Crowd Management and Safety: MAE3D can simulate crowd behavior in different scenarios, such as concerts, sports events, or public gatherings. It can assist in optimizing crowd management strategies, identifying potential safety risks, and planning for emergency evacuations.\\n\\n5. Defense and Security: MAE3D can be used for military training and simulation, allowing defense forces to train in realistic virtual environments. It can simulate complex battlefield scenarios, test military strategies, and evaluate the effectiveness of different equipment and technologies.\\n\\n6. Environmental Impact Assessment: MAE3D can simulate the environmental impact of various projects, such as construction, mining, or energy production. It can help in assessing the potential consequences on ecosystems, air quality, and noise pollution, aiding in making informed decisions and mitigating negative impacts.\\n\\nThese are just a few potential applications of MAE3D, and its versatility allows for its use in various other fields where simulation and analysis of complex systems are required.  \n",
       "5                                                                                                                                                                                                                                                                                                                                                                                                                                                                                                                                                                                                                                                                                                                                                                                                                                                                                                                                                                                                                                        The recommended months for implementing noise mitigation guidelines based on prevailing winds can vary depending on the specific location and context. It is important to consult with local authorities or experts who have knowledge of the area in question to obtain accurate and up-to-date information.\\n\\nIn general, noise mitigation measures can be implemented throughout the year, but certain months may be more suitable based on prevailing wind patterns. Prevailing winds can affect the dispersion and propagation of noise, so understanding wind patterns can help in determining the most effective mitigation strategies.\\n\\nFor example, if an area experiences strong prevailing winds from a particular direction during certain months, it may be beneficial to focus on implementing noise barriers or other mitigation measures on the side of the noise source facing that direction during those months.\\n\\nTo obtain specific recommendations for a particular location, it is advisable to consult with local authorities, environmental agencies, or acoustic experts who can provide detailed information based on the prevailing wind patterns in that area.  \n",
       "6                                                                                                                                                                                                                                                                                                                                                                                                                                                                                                                                                                                                                                                                                                                                                                                                                                                                                                                                                                                                                                                                                                                                                                                                                                                                                                                                                                                                                                                                                                                                                                                                                                                                                                                                                                                                                                                                                                                                                                                                                                                                                                                                             The febrile data collection trials conducted by DSTA Horizons were conducted in Singapore.  "
      ]
     },
     "execution_count": 73,
     "metadata": {},
     "output_type": "execute_result"
    }
   ],
   "source": [
    "df"
   ]
  },
  {
   "cell_type": "code",
   "execution_count": null,
   "id": "e37c5b18",
   "metadata": {},
   "outputs": [],
   "source": []
  }
 ],
 "metadata": {
  "kernelspec": {
   "display_name": "pdf_chunk",
   "language": "python",
   "name": "pdf_chunk"
  },
  "language_info": {
   "codemirror_mode": {
    "name": "ipython",
    "version": 3
   },
   "file_extension": ".py",
   "mimetype": "text/x-python",
   "name": "python",
   "nbconvert_exporter": "python",
   "pygments_lexer": "ipython3",
   "version": "3.11.4"
  }
 },
 "nbformat": 4,
 "nbformat_minor": 5
}
